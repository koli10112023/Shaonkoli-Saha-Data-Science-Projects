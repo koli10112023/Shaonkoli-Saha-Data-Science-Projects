{
 "cells": [
  {
   "cell_type": "code",
   "execution_count": 1,
   "id": "16ea4d8f",
   "metadata": {
    "_cell_guid": "b1076dfc-b9ad-4769-8c92-a6c4dae69d19",
    "_uuid": "8f2839f25d086af736a60e9eeb907d3b93b6e0e5",
    "execution": {
     "iopub.execute_input": "2024-04-08T05:53:34.819320Z",
     "iopub.status.busy": "2024-04-08T05:53:34.818358Z",
     "iopub.status.idle": "2024-04-08T05:53:35.930065Z",
     "shell.execute_reply": "2024-04-08T05:53:35.928691Z"
    },
    "papermill": {
     "duration": 1.147942,
     "end_time": "2024-04-08T05:53:35.933359",
     "exception": false,
     "start_time": "2024-04-08T05:53:34.785417",
     "status": "completed"
    },
    "tags": []
   },
   "outputs": [
    {
     "name": "stdout",
     "output_type": "stream",
     "text": [
      "/kaggle/input/recipe-for-rating-predict-food-ratings-using-ml/sample.csv\n",
      "/kaggle/input/recipe-for-rating-predict-food-ratings-using-ml/train.csv\n",
      "/kaggle/input/recipe-for-rating-predict-food-ratings-using-ml/test.csv\n"
     ]
    }
   ],
   "source": [
    "# This Python 3 environment comes with many helpful analytics libraries installed\n",
    "# It is defined by the kaggle/python Docker image: https://github.com/kaggle/docker-python\n",
    "# For example, here's several helpful packages to load\n",
    "\n",
    "import numpy as np # linear algebra\n",
    "import pandas as pd # data processing, CSV file I/O (e.g. pd.read_csv)\n",
    "\n",
    "# Input data files are available in the read-only \"../input/\" directory\n",
    "# For example, running this (by clicking run or pressing Shift+Enter) will list all files under the input directory\n",
    "\n",
    "import os\n",
    "for dirname, _, filenames in os.walk('/kaggle/input'):\n",
    "    for filename in filenames:\n",
    "        print(os.path.join(dirname, filename))\n",
    "\n",
    "# You can write up to 20GB to the current directory (/kaggle/working/) that gets preserved as output when you create a version using \"Save & Run All\" \n",
    "# You can also write temporary files to /kaggle/temp/, but they won't be saved outside of the current session"
   ]
  },
  {
   "cell_type": "markdown",
   "id": "241db4e5",
   "metadata": {
    "papermill": {
     "duration": 0.028937,
     "end_time": "2024-04-08T05:53:35.994215",
     "exception": false,
     "start_time": "2024-04-08T05:53:35.965278",
     "status": "completed"
    },
    "tags": []
   },
   "source": [
    "**Data Loading**\n",
    "\n",
    "Here training data and test data both are loaded.\n",
    "\n",
    "All the codes are applied on training data. Test data set is used only at the time of submission."
   ]
  },
  {
   "cell_type": "code",
   "execution_count": 2,
   "id": "12ce6db1",
   "metadata": {
    "execution": {
     "iopub.execute_input": "2024-04-08T05:53:36.055428Z",
     "iopub.status.busy": "2024-04-08T05:53:36.054433Z",
     "iopub.status.idle": "2024-04-08T05:53:36.312394Z",
     "shell.execute_reply": "2024-04-08T05:53:36.311108Z"
    },
    "papermill": {
     "duration": 0.291975,
     "end_time": "2024-04-08T05:53:36.315447",
     "exception": false,
     "start_time": "2024-04-08T05:53:36.023472",
     "status": "completed"
    },
    "tags": []
   },
   "outputs": [],
   "source": [
    "train = pd.read_csv('/kaggle/input/recipe-for-rating-predict-food-ratings-using-ml/train.csv')\n",
    "test = pd.read_csv('/kaggle/input/recipe-for-rating-predict-food-ratings-using-ml/test.csv')"
   ]
  },
  {
   "cell_type": "markdown",
   "id": "ea1ed8fa",
   "metadata": {
    "papermill": {
     "duration": 0.029113,
     "end_time": "2024-04-08T05:53:36.375868",
     "exception": false,
     "start_time": "2024-04-08T05:53:36.346755",
     "status": "completed"
    },
    "tags": []
   },
   "source": [
    "**Shape of the dataset**\n",
    "\n",
    "The training dataset has 13636 rows and 15 columns."
   ]
  },
  {
   "cell_type": "code",
   "execution_count": 3,
   "id": "86e154eb",
   "metadata": {
    "execution": {
     "iopub.execute_input": "2024-04-08T05:53:36.436894Z",
     "iopub.status.busy": "2024-04-08T05:53:36.436469Z",
     "iopub.status.idle": "2024-04-08T05:53:36.444520Z",
     "shell.execute_reply": "2024-04-08T05:53:36.443356Z"
    },
    "papermill": {
     "duration": 0.041976,
     "end_time": "2024-04-08T05:53:36.447202",
     "exception": false,
     "start_time": "2024-04-08T05:53:36.405226",
     "status": "completed"
    },
    "tags": []
   },
   "outputs": [
    {
     "data": {
      "text/plain": [
       "(13636, 15)"
      ]
     },
     "execution_count": 3,
     "metadata": {},
     "output_type": "execute_result"
    }
   ],
   "source": [
    "train.shape"
   ]
  },
  {
   "cell_type": "markdown",
   "id": "152ef5a6",
   "metadata": {
    "papermill": {
     "duration": 0.028822,
     "end_time": "2024-04-08T05:53:36.505393",
     "exception": false,
     "start_time": "2024-04-08T05:53:36.476571",
     "status": "completed"
    },
    "tags": []
   },
   "source": [
    "**Information about the data**\n",
    "\n",
    "It has the information like number of rows and columns in te dataset. All the column names along with datatype of each column. \n",
    "We can see that, the dataset contains two types of data. Integer and object."
   ]
  },
  {
   "cell_type": "code",
   "execution_count": 4,
   "id": "6863b5e7",
   "metadata": {
    "execution": {
     "iopub.execute_input": "2024-04-08T05:53:36.567232Z",
     "iopub.status.busy": "2024-04-08T05:53:36.566490Z",
     "iopub.status.idle": "2024-04-08T05:53:36.609862Z",
     "shell.execute_reply": "2024-04-08T05:53:36.608645Z"
    },
    "papermill": {
     "duration": 0.077856,
     "end_time": "2024-04-08T05:53:36.612536",
     "exception": false,
     "start_time": "2024-04-08T05:53:36.534680",
     "status": "completed"
    },
    "tags": []
   },
   "outputs": [
    {
     "name": "stdout",
     "output_type": "stream",
     "text": [
      "<class 'pandas.core.frame.DataFrame'>\n",
      "RangeIndex: 13636 entries, 0 to 13635\n",
      "Data columns (total 15 columns):\n",
      " #   Column             Non-Null Count  Dtype \n",
      "---  ------             --------------  ----- \n",
      " 0   ID                 13636 non-null  int64 \n",
      " 1   RecipeNumber       13636 non-null  int64 \n",
      " 2   RecipeCode         13636 non-null  int64 \n",
      " 3   RecipeName         13636 non-null  object\n",
      " 4   CommentID          13636 non-null  object\n",
      " 5   UserID             13636 non-null  object\n",
      " 6   UserName           13636 non-null  object\n",
      " 7   UserReputation     13636 non-null  int64 \n",
      " 8   CreationTimestamp  13636 non-null  int64 \n",
      " 9   ReplyCount         13636 non-null  int64 \n",
      " 10  ThumbsUpCount      13636 non-null  int64 \n",
      " 11  ThumbsDownCount    13636 non-null  int64 \n",
      " 12  Rating             13636 non-null  int64 \n",
      " 13  BestScore          13636 non-null  int64 \n",
      " 14  Recipe_Review      13634 non-null  object\n",
      "dtypes: int64(10), object(5)\n",
      "memory usage: 1.6+ MB\n"
     ]
    }
   ],
   "source": [
    "train.info()"
   ]
  },
  {
   "cell_type": "markdown",
   "id": "60d6d11c",
   "metadata": {
    "papermill": {
     "duration": 0.029687,
     "end_time": "2024-04-08T05:53:36.672641",
     "exception": false,
     "start_time": "2024-04-08T05:53:36.642954",
     "status": "completed"
    },
    "tags": []
   },
   "source": [
    "**Sample Data**\n",
    "\n",
    "Here we can see first 5 records of the dataset."
   ]
  },
  {
   "cell_type": "code",
   "execution_count": 5,
   "id": "044fb162",
   "metadata": {
    "execution": {
     "iopub.execute_input": "2024-04-08T05:53:36.736190Z",
     "iopub.status.busy": "2024-04-08T05:53:36.735226Z",
     "iopub.status.idle": "2024-04-08T05:53:36.758053Z",
     "shell.execute_reply": "2024-04-08T05:53:36.756891Z"
    },
    "papermill": {
     "duration": 0.05826,
     "end_time": "2024-04-08T05:53:36.760756",
     "exception": false,
     "start_time": "2024-04-08T05:53:36.702496",
     "status": "completed"
    },
    "tags": []
   },
   "outputs": [
    {
     "data": {
      "text/html": [
       "<div>\n",
       "<style scoped>\n",
       "    .dataframe tbody tr th:only-of-type {\n",
       "        vertical-align: middle;\n",
       "    }\n",
       "\n",
       "    .dataframe tbody tr th {\n",
       "        vertical-align: top;\n",
       "    }\n",
       "\n",
       "    .dataframe thead th {\n",
       "        text-align: right;\n",
       "    }\n",
       "</style>\n",
       "<table border=\"1\" class=\"dataframe\">\n",
       "  <thead>\n",
       "    <tr style=\"text-align: right;\">\n",
       "      <th></th>\n",
       "      <th>ID</th>\n",
       "      <th>RecipeNumber</th>\n",
       "      <th>RecipeCode</th>\n",
       "      <th>RecipeName</th>\n",
       "      <th>CommentID</th>\n",
       "      <th>UserID</th>\n",
       "      <th>UserName</th>\n",
       "      <th>UserReputation</th>\n",
       "      <th>CreationTimestamp</th>\n",
       "      <th>ReplyCount</th>\n",
       "      <th>ThumbsUpCount</th>\n",
       "      <th>ThumbsDownCount</th>\n",
       "      <th>Rating</th>\n",
       "      <th>BestScore</th>\n",
       "      <th>Recipe_Review</th>\n",
       "    </tr>\n",
       "  </thead>\n",
       "  <tbody>\n",
       "    <tr>\n",
       "      <th>0</th>\n",
       "      <td>70</td>\n",
       "      <td>71</td>\n",
       "      <td>12259</td>\n",
       "      <td>Banana Bars with Cream Cheese Frosting</td>\n",
       "      <td>sp_aUSaElGf_12259_c_149978</td>\n",
       "      <td>u_1oKVaBmiEKwAFyiHrDLoWpbel0J</td>\n",
       "      <td>misscoffeepot</td>\n",
       "      <td>20</td>\n",
       "      <td>1622717078</td>\n",
       "      <td>0</td>\n",
       "      <td>0</td>\n",
       "      <td>0</td>\n",
       "      <td>5</td>\n",
       "      <td>100</td>\n",
       "      <td>great recipe! I have made them just as written...</td>\n",
       "    </tr>\n",
       "    <tr>\n",
       "      <th>1</th>\n",
       "      <td>72</td>\n",
       "      <td>88</td>\n",
       "      <td>8202</td>\n",
       "      <td>Simple Taco Soup</td>\n",
       "      <td>sp_aUSaElGf_8202_c_310332</td>\n",
       "      <td>u_1oKZeRIXYzGNhGW8OMR3O4lX1ih</td>\n",
       "      <td>MichelleMalone</td>\n",
       "      <td>1</td>\n",
       "      <td>1622717852</td>\n",
       "      <td>0</td>\n",
       "      <td>0</td>\n",
       "      <td>1</td>\n",
       "      <td>5</td>\n",
       "      <td>100</td>\n",
       "      <td>This is an easy and quick recipe that is great...</td>\n",
       "    </tr>\n",
       "    <tr>\n",
       "      <th>2</th>\n",
       "      <td>458</td>\n",
       "      <td>3</td>\n",
       "      <td>2832</td>\n",
       "      <td>Cheeseburger Soup</td>\n",
       "      <td>sp_aUSaElGf_2832_c_206522</td>\n",
       "      <td>u_1oKYHUtdaD48KJCDYq5wfpAUxWz</td>\n",
       "      <td>jeannem32</td>\n",
       "      <td>1</td>\n",
       "      <td>1622717357</td>\n",
       "      <td>0</td>\n",
       "      <td>0</td>\n",
       "      <td>0</td>\n",
       "      <td>3</td>\n",
       "      <td>100</td>\n",
       "      <td>I think I was looking for something extra spec...</td>\n",
       "    </tr>\n",
       "    <tr>\n",
       "      <th>3</th>\n",
       "      <td>7</td>\n",
       "      <td>50</td>\n",
       "      <td>100276</td>\n",
       "      <td>Grilled Huli Huli Chicken</td>\n",
       "      <td>sp_aUSaElGf_100276_c_434088</td>\n",
       "      <td>u_1oKZCQcKQZdQhDVBS7oISc216VA</td>\n",
       "      <td>ds422</td>\n",
       "      <td>1</td>\n",
       "      <td>1622648899</td>\n",
       "      <td>0</td>\n",
       "      <td>0</td>\n",
       "      <td>0</td>\n",
       "      <td>5</td>\n",
       "      <td>100</td>\n",
       "      <td>This is our favorite grilled chicken recipe.  ...</td>\n",
       "    </tr>\n",
       "    <tr>\n",
       "      <th>4</th>\n",
       "      <td>60</td>\n",
       "      <td>12</td>\n",
       "      <td>19731</td>\n",
       "      <td>Cauliflower Soup</td>\n",
       "      <td>sp_aUSaElGf_19731_c_387011</td>\n",
       "      <td>u_1oKd4sudZQPgu6YALiC7bW7mKMs</td>\n",
       "      <td>SusanHoward</td>\n",
       "      <td>1</td>\n",
       "      <td>1622718260</td>\n",
       "      <td>0</td>\n",
       "      <td>0</td>\n",
       "      <td>0</td>\n",
       "      <td>4</td>\n",
       "      <td>100</td>\n",
       "      <td>Great basic recipe. I added 2 teaspoons Tuscan...</td>\n",
       "    </tr>\n",
       "  </tbody>\n",
       "</table>\n",
       "</div>"
      ],
      "text/plain": [
       "    ID  RecipeNumber  RecipeCode                              RecipeName  \\\n",
       "0   70            71       12259  Banana Bars with Cream Cheese Frosting   \n",
       "1   72            88        8202                        Simple Taco Soup   \n",
       "2  458             3        2832                       Cheeseburger Soup   \n",
       "3    7            50      100276               Grilled Huli Huli Chicken   \n",
       "4   60            12       19731                        Cauliflower Soup   \n",
       "\n",
       "                     CommentID                         UserID        UserName  \\\n",
       "0   sp_aUSaElGf_12259_c_149978  u_1oKVaBmiEKwAFyiHrDLoWpbel0J   misscoffeepot   \n",
       "1    sp_aUSaElGf_8202_c_310332  u_1oKZeRIXYzGNhGW8OMR3O4lX1ih  MichelleMalone   \n",
       "2    sp_aUSaElGf_2832_c_206522  u_1oKYHUtdaD48KJCDYq5wfpAUxWz       jeannem32   \n",
       "3  sp_aUSaElGf_100276_c_434088  u_1oKZCQcKQZdQhDVBS7oISc216VA           ds422   \n",
       "4   sp_aUSaElGf_19731_c_387011  u_1oKd4sudZQPgu6YALiC7bW7mKMs     SusanHoward   \n",
       "\n",
       "   UserReputation  CreationTimestamp  ReplyCount  ThumbsUpCount  \\\n",
       "0              20         1622717078           0              0   \n",
       "1               1         1622717852           0              0   \n",
       "2               1         1622717357           0              0   \n",
       "3               1         1622648899           0              0   \n",
       "4               1         1622718260           0              0   \n",
       "\n",
       "   ThumbsDownCount  Rating  BestScore  \\\n",
       "0                0       5        100   \n",
       "1                1       5        100   \n",
       "2                0       3        100   \n",
       "3                0       5        100   \n",
       "4                0       4        100   \n",
       "\n",
       "                                       Recipe_Review  \n",
       "0  great recipe! I have made them just as written...  \n",
       "1  This is an easy and quick recipe that is great...  \n",
       "2  I think I was looking for something extra spec...  \n",
       "3  This is our favorite grilled chicken recipe.  ...  \n",
       "4  Great basic recipe. I added 2 teaspoons Tuscan...  "
      ]
     },
     "execution_count": 5,
     "metadata": {},
     "output_type": "execute_result"
    }
   ],
   "source": [
    "train.head()"
   ]
  },
  {
   "cell_type": "markdown",
   "id": "3011c5ed",
   "metadata": {
    "papermill": {
     "duration": 0.029493,
     "end_time": "2024-04-08T05:53:36.819953",
     "exception": false,
     "start_time": "2024-04-08T05:53:36.790460",
     "status": "completed"
    },
    "tags": []
   },
   "source": [
    "**Statistics of training data**\n",
    "\n",
    "Here we can see the statistics of the numerical data. The statistics are like count, mean, standard deviation, minimum value, maximum value, percentile for each numerical column."
   ]
  },
  {
   "cell_type": "code",
   "execution_count": 6,
   "id": "e9d51eff",
   "metadata": {
    "execution": {
     "iopub.execute_input": "2024-04-08T05:53:36.944369Z",
     "iopub.status.busy": "2024-04-08T05:53:36.943925Z",
     "iopub.status.idle": "2024-04-08T05:53:36.996115Z",
     "shell.execute_reply": "2024-04-08T05:53:36.994865Z"
    },
    "papermill": {
     "duration": 0.086604,
     "end_time": "2024-04-08T05:53:36.998873",
     "exception": false,
     "start_time": "2024-04-08T05:53:36.912269",
     "status": "completed"
    },
    "tags": []
   },
   "outputs": [
    {
     "data": {
      "text/html": [
       "<div>\n",
       "<style scoped>\n",
       "    .dataframe tbody tr th:only-of-type {\n",
       "        vertical-align: middle;\n",
       "    }\n",
       "\n",
       "    .dataframe tbody tr th {\n",
       "        vertical-align: top;\n",
       "    }\n",
       "\n",
       "    .dataframe thead th {\n",
       "        text-align: right;\n",
       "    }\n",
       "</style>\n",
       "<table border=\"1\" class=\"dataframe\">\n",
       "  <thead>\n",
       "    <tr style=\"text-align: right;\">\n",
       "      <th></th>\n",
       "      <th>ID</th>\n",
       "      <th>RecipeNumber</th>\n",
       "      <th>RecipeCode</th>\n",
       "      <th>UserReputation</th>\n",
       "      <th>CreationTimestamp</th>\n",
       "      <th>ReplyCount</th>\n",
       "      <th>ThumbsUpCount</th>\n",
       "      <th>ThumbsDownCount</th>\n",
       "      <th>Rating</th>\n",
       "      <th>BestScore</th>\n",
       "    </tr>\n",
       "  </thead>\n",
       "  <tbody>\n",
       "    <tr>\n",
       "      <th>count</th>\n",
       "      <td>13636.000000</td>\n",
       "      <td>13636.000000</td>\n",
       "      <td>13636.000000</td>\n",
       "      <td>13636.000000</td>\n",
       "      <td>1.363600e+04</td>\n",
       "      <td>13636.000000</td>\n",
       "      <td>13636.000000</td>\n",
       "      <td>13636.000000</td>\n",
       "      <td>13636.000000</td>\n",
       "      <td>13636.000000</td>\n",
       "    </tr>\n",
       "    <tr>\n",
       "      <th>mean</th>\n",
       "      <td>121.085289</td>\n",
       "      <td>38.624377</td>\n",
       "      <td>21785.990833</td>\n",
       "      <td>2.160311</td>\n",
       "      <td>1.623713e+09</td>\n",
       "      <td>0.014520</td>\n",
       "      <td>1.098269</td>\n",
       "      <td>0.543708</td>\n",
       "      <td>4.288721</td>\n",
       "      <td>153.127897</td>\n",
       "    </tr>\n",
       "    <tr>\n",
       "      <th>std</th>\n",
       "      <td>116.995633</td>\n",
       "      <td>29.672351</td>\n",
       "      <td>23883.189918</td>\n",
       "      <td>10.086424</td>\n",
       "      <td>5.444020e+06</td>\n",
       "      <td>0.137323</td>\n",
       "      <td>4.166487</td>\n",
       "      <td>3.265660</td>\n",
       "      <td>1.544839</td>\n",
       "      <td>140.986908</td>\n",
       "    </tr>\n",
       "    <tr>\n",
       "      <th>min</th>\n",
       "      <td>0.000000</td>\n",
       "      <td>1.000000</td>\n",
       "      <td>386.000000</td>\n",
       "      <td>0.000000</td>\n",
       "      <td>1.613035e+09</td>\n",
       "      <td>0.000000</td>\n",
       "      <td>0.000000</td>\n",
       "      <td>0.000000</td>\n",
       "      <td>0.000000</td>\n",
       "      <td>0.000000</td>\n",
       "    </tr>\n",
       "    <tr>\n",
       "      <th>25%</th>\n",
       "      <td>45.000000</td>\n",
       "      <td>12.000000</td>\n",
       "      <td>6504.000000</td>\n",
       "      <td>1.000000</td>\n",
       "      <td>1.622717e+09</td>\n",
       "      <td>0.000000</td>\n",
       "      <td>0.000000</td>\n",
       "      <td>0.000000</td>\n",
       "      <td>5.000000</td>\n",
       "      <td>100.000000</td>\n",
       "    </tr>\n",
       "    <tr>\n",
       "      <th>50%</th>\n",
       "      <td>91.000000</td>\n",
       "      <td>33.000000</td>\n",
       "      <td>14600.000000</td>\n",
       "      <td>1.000000</td>\n",
       "      <td>1.622718e+09</td>\n",
       "      <td>0.000000</td>\n",
       "      <td>0.000000</td>\n",
       "      <td>0.000000</td>\n",
       "      <td>5.000000</td>\n",
       "      <td>100.000000</td>\n",
       "    </tr>\n",
       "    <tr>\n",
       "      <th>75%</th>\n",
       "      <td>148.000000</td>\n",
       "      <td>63.000000</td>\n",
       "      <td>33121.000000</td>\n",
       "      <td>1.000000</td>\n",
       "      <td>1.622718e+09</td>\n",
       "      <td>0.000000</td>\n",
       "      <td>0.000000</td>\n",
       "      <td>0.000000</td>\n",
       "      <td>5.000000</td>\n",
       "      <td>100.000000</td>\n",
       "    </tr>\n",
       "    <tr>\n",
       "      <th>max</th>\n",
       "      <td>724.000000</td>\n",
       "      <td>100.000000</td>\n",
       "      <td>191775.000000</td>\n",
       "      <td>510.000000</td>\n",
       "      <td>1.665756e+09</td>\n",
       "      <td>3.000000</td>\n",
       "      <td>80.000000</td>\n",
       "      <td>126.000000</td>\n",
       "      <td>5.000000</td>\n",
       "      <td>946.000000</td>\n",
       "    </tr>\n",
       "  </tbody>\n",
       "</table>\n",
       "</div>"
      ],
      "text/plain": [
       "                 ID  RecipeNumber     RecipeCode  UserReputation  \\\n",
       "count  13636.000000  13636.000000   13636.000000    13636.000000   \n",
       "mean     121.085289     38.624377   21785.990833        2.160311   \n",
       "std      116.995633     29.672351   23883.189918       10.086424   \n",
       "min        0.000000      1.000000     386.000000        0.000000   \n",
       "25%       45.000000     12.000000    6504.000000        1.000000   \n",
       "50%       91.000000     33.000000   14600.000000        1.000000   \n",
       "75%      148.000000     63.000000   33121.000000        1.000000   \n",
       "max      724.000000    100.000000  191775.000000      510.000000   \n",
       "\n",
       "       CreationTimestamp    ReplyCount  ThumbsUpCount  ThumbsDownCount  \\\n",
       "count       1.363600e+04  13636.000000   13636.000000     13636.000000   \n",
       "mean        1.623713e+09      0.014520       1.098269         0.543708   \n",
       "std         5.444020e+06      0.137323       4.166487         3.265660   \n",
       "min         1.613035e+09      0.000000       0.000000         0.000000   \n",
       "25%         1.622717e+09      0.000000       0.000000         0.000000   \n",
       "50%         1.622718e+09      0.000000       0.000000         0.000000   \n",
       "75%         1.622718e+09      0.000000       0.000000         0.000000   \n",
       "max         1.665756e+09      3.000000      80.000000       126.000000   \n",
       "\n",
       "             Rating     BestScore  \n",
       "count  13636.000000  13636.000000  \n",
       "mean       4.288721    153.127897  \n",
       "std        1.544839    140.986908  \n",
       "min        0.000000      0.000000  \n",
       "25%        5.000000    100.000000  \n",
       "50%        5.000000    100.000000  \n",
       "75%        5.000000    100.000000  \n",
       "max        5.000000    946.000000  "
      ]
     },
     "execution_count": 6,
     "metadata": {},
     "output_type": "execute_result"
    }
   ],
   "source": [
    "train.describe()"
   ]
  },
  {
   "cell_type": "markdown",
   "id": "20fcdd69",
   "metadata": {
    "papermill": {
     "duration": 0.03149,
     "end_time": "2024-04-08T05:53:37.060974",
     "exception": false,
     "start_time": "2024-04-08T05:53:37.029484",
     "status": "completed"
    },
    "tags": []
   },
   "source": [
    "**Statistics of target column**\n",
    "\n",
    "We are using the **Rating** column as target column. Here we are analysing how many records are there for each Rating."
   ]
  },
  {
   "cell_type": "code",
   "execution_count": 7,
   "id": "78edc62c",
   "metadata": {
    "execution": {
     "iopub.execute_input": "2024-04-08T05:53:37.124291Z",
     "iopub.status.busy": "2024-04-08T05:53:37.123892Z",
     "iopub.status.idle": "2024-04-08T05:53:37.135788Z",
     "shell.execute_reply": "2024-04-08T05:53:37.134289Z"
    },
    "papermill": {
     "duration": 0.046637,
     "end_time": "2024-04-08T05:53:37.138551",
     "exception": false,
     "start_time": "2024-04-08T05:53:37.091914",
     "status": "completed"
    },
    "tags": []
   },
   "outputs": [
    {
     "data": {
      "text/plain": [
       "Rating\n",
       "5    10371\n",
       "0     1272\n",
       "4     1241\n",
       "3      368\n",
       "1      210\n",
       "2      174\n",
       "Name: count, dtype: int64"
      ]
     },
     "execution_count": 7,
     "metadata": {},
     "output_type": "execute_result"
    }
   ],
   "source": [
    "train['Rating'].value_counts()"
   ]
  },
  {
   "cell_type": "code",
   "execution_count": 8,
   "id": "33713c0a",
   "metadata": {
    "execution": {
     "iopub.execute_input": "2024-04-08T05:53:37.202739Z",
     "iopub.status.busy": "2024-04-08T05:53:37.202357Z",
     "iopub.status.idle": "2024-04-08T05:53:38.989097Z",
     "shell.execute_reply": "2024-04-08T05:53:38.987890Z"
    },
    "papermill": {
     "duration": 1.822181,
     "end_time": "2024-04-08T05:53:38.992110",
     "exception": false,
     "start_time": "2024-04-08T05:53:37.169929",
     "status": "completed"
    },
    "tags": []
   },
   "outputs": [],
   "source": [
    "import seaborn as sns\n",
    "import matplotlib.pyplot as plt"
   ]
  },
  {
   "cell_type": "markdown",
   "id": "f71a4442",
   "metadata": {
    "papermill": {
     "duration": 0.036827,
     "end_time": "2024-04-08T05:53:39.060912",
     "exception": false,
     "start_time": "2024-04-08T05:53:39.024085",
     "status": "completed"
    },
    "tags": []
   },
   "source": [
    "**Histogram of Ratings column**\n",
    "\n",
    "This is the pictorial representation of Rating column analysis.\n",
    "\n",
    "Here we can see that most of the recipes has rating 5."
   ]
  },
  {
   "cell_type": "code",
   "execution_count": 9,
   "id": "ce6f6b9b",
   "metadata": {
    "execution": {
     "iopub.execute_input": "2024-04-08T05:53:39.140407Z",
     "iopub.status.busy": "2024-04-08T05:53:39.140001Z",
     "iopub.status.idle": "2024-04-08T05:53:39.669267Z",
     "shell.execute_reply": "2024-04-08T05:53:39.667203Z"
    },
    "papermill": {
     "duration": 0.568834,
     "end_time": "2024-04-08T05:53:39.672554",
     "exception": false,
     "start_time": "2024-04-08T05:53:39.103720",
     "status": "completed"
    },
    "tags": []
   },
   "outputs": [
    {
     "data": {
      "text/plain": [
       "Text(0, 0.5, 'Recipe Ratings count')"
      ]
     },
     "execution_count": 9,
     "metadata": {},
     "output_type": "execute_result"
    },
    {
     "data": {
      "image/png": "[encoded data removed]",
      "text/plain": [
       "<Figure size 640x480 with 1 Axes>"
      ]
     },
     "metadata": {},
     "output_type": "display_data"
    }
   ],
   "source": [
    "sns.set()\n",
    "train.Rating.hist()\n",
    "plt.xlabel('Recipe Ratings')\n",
    "plt.ylabel('Recipe Ratings count')"
   ]
  },
  {
   "cell_type": "markdown",
   "id": "e28ab9f2",
   "metadata": {
    "papermill": {
     "duration": 0.034489,
     "end_time": "2024-04-08T05:53:39.744492",
     "exception": false,
     "start_time": "2024-04-08T05:53:39.710003",
     "status": "completed"
    },
    "tags": []
   },
   "source": [
    "**Histogram of RecipeNumber column.**\n",
    "\n",
    "Here we can identify that out of 100 recipes first 10 recipes has most reviews. "
   ]
  },
  {
   "cell_type": "code",
   "execution_count": 10,
   "id": "a28bedd5",
   "metadata": {
    "execution": {
     "iopub.execute_input": "2024-04-08T05:53:39.810424Z",
     "iopub.status.busy": "2024-04-08T05:53:39.809220Z",
     "iopub.status.idle": "2024-04-08T05:53:40.178783Z",
     "shell.execute_reply": "2024-04-08T05:53:40.177430Z"
    },
    "papermill": {
     "duration": 0.405232,
     "end_time": "2024-04-08T05:53:40.181552",
     "exception": false,
     "start_time": "2024-04-08T05:53:39.776320",
     "status": "completed"
    },
    "tags": []
   },
   "outputs": [
    {
     "data": {
      "text/plain": [
       "Text(0, 0.5, 'Recipe Number count')"
      ]
     },
     "execution_count": 10,
     "metadata": {},
     "output_type": "execute_result"
    },
    {
     "data": {
      "image/png": "[encoded data removed]",
      "text/plain": [
       "<Figure size 640x480 with 1 Axes>"
      ]
     },
     "metadata": {},
     "output_type": "display_data"
    }
   ],
   "source": [
    "sns.set()\n",
    "train.RecipeNumber.hist()\n",
    "plt.xlabel('Recipe Number')\n",
    "plt.ylabel('Recipe Number count')"
   ]
  },
  {
   "cell_type": "markdown",
   "id": "10f39630",
   "metadata": {
    "papermill": {
     "duration": 0.031428,
     "end_time": "2024-04-08T05:53:40.245624",
     "exception": false,
     "start_time": "2024-04-08T05:53:40.214196",
     "status": "completed"
    },
    "tags": []
   },
   "source": [
    "**Scatter plot between RecipeNumber and ThumbsUpCount**\n",
    "\n",
    "Here we are trying to understand relation between RecipeNumber and count of thumbs up. Here X axis represent the RecipeNumber and Y axis represent the ThumbsUpCount. Major thumbsup count for each recipe is within 10. "
   ]
  },
  {
   "cell_type": "code",
   "execution_count": 11,
   "id": "1f217e26",
   "metadata": {
    "execution": {
     "iopub.execute_input": "2024-04-08T05:53:40.316794Z",
     "iopub.status.busy": "2024-04-08T05:53:40.316401Z",
     "iopub.status.idle": "2024-04-08T05:53:40.780966Z",
     "shell.execute_reply": "2024-04-08T05:53:40.779655Z"
    },
    "papermill": {
     "duration": 0.504819,
     "end_time": "2024-04-08T05:53:40.783893",
     "exception": false,
     "start_time": "2024-04-08T05:53:40.279074",
     "status": "completed"
    },
    "tags": []
   },
   "outputs": [
    {
     "data": {
      "text/plain": [
       "<matplotlib.collections.PathCollection at 0x7f599c254d60>"
      ]
     },
     "execution_count": 11,
     "metadata": {},
     "output_type": "execute_result"
    },
    {
     "data": {
      "image/png": "[encoded data removed]",
      "text/plain": [
       "<Figure size 640x480 with 1 Axes>"
      ]
     },
     "metadata": {},
     "output_type": "display_data"
    }
   ],
   "source": [
    "plt.scatter(train['RecipeNumber'],train['ThumbsUpCount'])"
   ]
  },
  {
   "cell_type": "markdown",
   "id": "1ae1e375",
   "metadata": {
    "papermill": {
     "duration": 0.033885,
     "end_time": "2024-04-08T05:53:40.852464",
     "exception": false,
     "start_time": "2024-04-08T05:53:40.818579",
     "status": "completed"
    },
    "tags": []
   },
   "source": [
    "**Scatter plot between RecipeNumber and ThumbsDownCount**\n",
    "\n",
    "Here we are trying to understand relation between RecipeNumber and count of thumbs down. Here X axis represent the RecipeNumber and Y axis represent the ThumbsDownCount. Major thumbsdown count for each recipe is within 10. "
   ]
  },
  {
   "cell_type": "code",
   "execution_count": 12,
   "id": "5cb4a525",
   "metadata": {
    "execution": {
     "iopub.execute_input": "2024-04-08T05:53:40.921412Z",
     "iopub.status.busy": "2024-04-08T05:53:40.920926Z",
     "iopub.status.idle": "2024-04-08T05:53:41.347721Z",
     "shell.execute_reply": "2024-04-08T05:53:41.346330Z"
    },
    "papermill": {
     "duration": 0.465034,
     "end_time": "2024-04-08T05:53:41.350524",
     "exception": false,
     "start_time": "2024-04-08T05:53:40.885490",
     "status": "completed"
    },
    "tags": []
   },
   "outputs": [
    {
     "data": {
      "text/plain": [
       "<matplotlib.collections.PathCollection at 0x7f5986cae680>"
      ]
     },
     "execution_count": 12,
     "metadata": {},
     "output_type": "execute_result"
    },
    {
     "data": {
      "image/png": "[encoded data removed]",
      "text/plain": [
       "<Figure size 640x480 with 1 Axes>"
      ]
     },
     "metadata": {},
     "output_type": "display_data"
    }
   ],
   "source": [
    "plt.scatter(train['RecipeNumber'],train['ThumbsDownCount'])"
   ]
  },
  {
   "cell_type": "markdown",
   "id": "6f8aad0a",
   "metadata": {
    "papermill": {
     "duration": 0.034187,
     "end_time": "2024-04-08T05:53:41.421014",
     "exception": false,
     "start_time": "2024-04-08T05:53:41.386827",
     "status": "completed"
    },
    "tags": []
   },
   "source": [
    "**Boxplot for outliers applied in RecipeNumber column.**\n",
    "\n",
    "Maximum value = 100\n",
    "Minimum value = 0\n",
    "upper quartile = approx 61\n",
    "lower quartile = approx 17\n",
    "median = approx 35"
   ]
  },
  {
   "cell_type": "code",
   "execution_count": 13,
   "id": "50c776b7",
   "metadata": {
    "execution": {
     "iopub.execute_input": "2024-04-08T05:53:41.492871Z",
     "iopub.status.busy": "2024-04-08T05:53:41.492407Z",
     "iopub.status.idle": "2024-04-08T05:53:41.682918Z",
     "shell.execute_reply": "2024-04-08T05:53:41.681720Z"
    },
    "papermill": {
     "duration": 0.230148,
     "end_time": "2024-04-08T05:53:41.685484",
     "exception": false,
     "start_time": "2024-04-08T05:53:41.455336",
     "status": "completed"
    },
    "tags": []
   },
   "outputs": [
    {
     "data": {
      "text/plain": [
       "{'whiskers': [<matplotlib.lines.Line2D at 0x7f5986d166e0>,\n",
       "  <matplotlib.lines.Line2D at 0x7f5986d17c10>],\n",
       " 'caps': [<matplotlib.lines.Line2D at 0x7f5986d17eb0>,\n",
       "  <matplotlib.lines.Line2D at 0x7f5986d54190>],\n",
       " 'boxes': [<matplotlib.lines.Line2D at 0x7f5986d177f0>],\n",
       " 'medians': [<matplotlib.lines.Line2D at 0x7f5986d54430>],\n",
       " 'fliers': [<matplotlib.lines.Line2D at 0x7f5986d546d0>],\n",
       " 'means': []}"
      ]
     },
     "execution_count": 13,
     "metadata": {},
     "output_type": "execute_result"
    },
    {
     "data": {
      "image/png": "[encoded data removed]",
      "text/plain": [
       "<Figure size 640x480 with 1 Axes>"
      ]
     },
     "metadata": {},
     "output_type": "display_data"
    }
   ],
   "source": [
    "plt.boxplot(train['RecipeNumber'])"
   ]
  },
  {
   "cell_type": "markdown",
   "id": "e2093935",
   "metadata": {
    "papermill": {
     "duration": 0.034467,
     "end_time": "2024-04-08T05:53:41.754039",
     "exception": false,
     "start_time": "2024-04-08T05:53:41.719572",
     "status": "completed"
    },
    "tags": []
   },
   "source": [
    "**Heatmap between ReplyCount, ThumbsUpCount, ThumbsDownCOunt and Rating**\n",
    "\n",
    "Here we can see that, Rating is connected with ReplyCount, ThumbsUpCount and ThumbsDownCount."
   ]
  },
  {
   "cell_type": "code",
   "execution_count": 14,
   "id": "b387dfcb",
   "metadata": {
    "execution": {
     "iopub.execute_input": "2024-04-08T05:53:41.826311Z",
     "iopub.status.busy": "2024-04-08T05:53:41.825273Z",
     "iopub.status.idle": "2024-04-08T05:53:41.846930Z",
     "shell.execute_reply": "2024-04-08T05:53:41.845718Z"
    },
    "papermill": {
     "duration": 0.060901,
     "end_time": "2024-04-08T05:53:41.849477",
     "exception": false,
     "start_time": "2024-04-08T05:53:41.788576",
     "status": "completed"
    },
    "tags": []
   },
   "outputs": [
    {
     "data": {
      "text/html": [
       "<div>\n",
       "<style scoped>\n",
       "    .dataframe tbody tr th:only-of-type {\n",
       "        vertical-align: middle;\n",
       "    }\n",
       "\n",
       "    .dataframe tbody tr th {\n",
       "        vertical-align: top;\n",
       "    }\n",
       "\n",
       "    .dataframe thead th {\n",
       "        text-align: right;\n",
       "    }\n",
       "</style>\n",
       "<table border=\"1\" class=\"dataframe\">\n",
       "  <thead>\n",
       "    <tr style=\"text-align: right;\">\n",
       "      <th></th>\n",
       "      <th>ReplyCount</th>\n",
       "      <th>ThumbsUpCount</th>\n",
       "      <th>ThumbsDownCount</th>\n",
       "      <th>Rating</th>\n",
       "    </tr>\n",
       "  </thead>\n",
       "  <tbody>\n",
       "    <tr>\n",
       "      <th>ReplyCount</th>\n",
       "      <td>1.000000</td>\n",
       "      <td>0.220929</td>\n",
       "      <td>0.293614</td>\n",
       "      <td>-0.124860</td>\n",
       "    </tr>\n",
       "    <tr>\n",
       "      <th>ThumbsUpCount</th>\n",
       "      <td>0.220929</td>\n",
       "      <td>1.000000</td>\n",
       "      <td>0.392564</td>\n",
       "      <td>-0.051752</td>\n",
       "    </tr>\n",
       "    <tr>\n",
       "      <th>ThumbsDownCount</th>\n",
       "      <td>0.293614</td>\n",
       "      <td>0.392564</td>\n",
       "      <td>1.000000</td>\n",
       "      <td>-0.142273</td>\n",
       "    </tr>\n",
       "    <tr>\n",
       "      <th>Rating</th>\n",
       "      <td>-0.124860</td>\n",
       "      <td>-0.051752</td>\n",
       "      <td>-0.142273</td>\n",
       "      <td>1.000000</td>\n",
       "    </tr>\n",
       "  </tbody>\n",
       "</table>\n",
       "</div>"
      ],
      "text/plain": [
       "                 ReplyCount  ThumbsUpCount  ThumbsDownCount    Rating\n",
       "ReplyCount         1.000000       0.220929         0.293614 -0.124860\n",
       "ThumbsUpCount      0.220929       1.000000         0.392564 -0.051752\n",
       "ThumbsDownCount    0.293614       0.392564         1.000000 -0.142273\n",
       "Rating            -0.124860      -0.051752        -0.142273  1.000000"
      ]
     },
     "execution_count": 14,
     "metadata": {},
     "output_type": "execute_result"
    }
   ],
   "source": [
    "data = {'ReplyCount' : train['ReplyCount'],'ThumbsUpCount' : train['ThumbsUpCount'],'ThumbsDownCount' : train['ThumbsDownCount'],'Rating' : train['Rating']}\n",
    "dataframe = pd.DataFrame(data, columns=['ReplyCount','ThumbsUpCount','ThumbsDownCount','Rating'])\n",
    "matrix = dataframe.corr()\n",
    "matrix"
   ]
  },
  {
   "cell_type": "code",
   "execution_count": 15,
   "id": "f03cf717",
   "metadata": {
    "execution": {
     "iopub.execute_input": "2024-04-08T05:53:41.921996Z",
     "iopub.status.busy": "2024-04-08T05:53:41.921564Z",
     "iopub.status.idle": "2024-04-08T05:53:42.376393Z",
     "shell.execute_reply": "2024-04-08T05:53:42.375360Z"
    },
    "papermill": {
     "duration": 0.494518,
     "end_time": "2024-04-08T05:53:42.379060",
     "exception": false,
     "start_time": "2024-04-08T05:53:41.884542",
     "status": "completed"
    },
    "tags": []
   },
   "outputs": [
    {
     "data": {
      "text/plain": [
       "<Axes: >"
      ]
     },
     "execution_count": 15,
     "metadata": {},
     "output_type": "execute_result"
    },
    {
     "data": {
      "image/png": "[encoded data removed]",
      "text/plain": [
       "<Figure size 640x480 with 2 Axes>"
      ]
     },
     "metadata": {},
     "output_type": "display_data"
    }
   ],
   "source": [
    "sns.heatmap(matrix,annot= True)"
   ]
  },
  {
   "cell_type": "markdown",
   "id": "ccac9da1",
   "metadata": {
    "papermill": {
     "duration": 0.034962,
     "end_time": "2024-04-08T05:53:42.449418",
     "exception": false,
     "start_time": "2024-04-08T05:53:42.414456",
     "status": "completed"
    },
    "tags": []
   },
   "source": [
    "**This identifies number of null values of each column.**"
   ]
  },
  {
   "cell_type": "code",
   "execution_count": 16,
   "id": "a4423893",
   "metadata": {
    "execution": {
     "iopub.execute_input": "2024-04-08T05:53:42.521996Z",
     "iopub.status.busy": "2024-04-08T05:53:42.521583Z",
     "iopub.status.idle": "2024-04-08T05:53:42.539596Z",
     "shell.execute_reply": "2024-04-08T05:53:42.538474Z"
    },
    "papermill": {
     "duration": 0.057299,
     "end_time": "2024-04-08T05:53:42.542299",
     "exception": false,
     "start_time": "2024-04-08T05:53:42.485000",
     "status": "completed"
    },
    "tags": []
   },
   "outputs": [
    {
     "data": {
      "text/plain": [
       "ID                   0\n",
       "RecipeNumber         0\n",
       "RecipeCode           0\n",
       "RecipeName           0\n",
       "CommentID            0\n",
       "UserID               0\n",
       "UserName             0\n",
       "UserReputation       0\n",
       "CreationTimestamp    0\n",
       "ReplyCount           0\n",
       "ThumbsUpCount        0\n",
       "ThumbsDownCount      0\n",
       "Rating               0\n",
       "BestScore            0\n",
       "Recipe_Review        2\n",
       "dtype: int64"
      ]
     },
     "execution_count": 16,
     "metadata": {},
     "output_type": "execute_result"
    }
   ],
   "source": [
    "train.isnull().sum()"
   ]
  },
  {
   "cell_type": "markdown",
   "id": "ef730978",
   "metadata": {
    "papermill": {
     "duration": 0.035793,
     "end_time": "2024-04-08T05:53:42.614915",
     "exception": false,
     "start_time": "2024-04-08T05:53:42.579122",
     "status": "completed"
    },
    "tags": []
   },
   "source": [
    "**Here it dentifies those 2 records which has null value.**"
   ]
  },
  {
   "cell_type": "code",
   "execution_count": 17,
   "id": "70e0fdb6",
   "metadata": {
    "execution": {
     "iopub.execute_input": "2024-04-08T05:53:42.686979Z",
     "iopub.status.busy": "2024-04-08T05:53:42.686601Z",
     "iopub.status.idle": "2024-04-08T05:53:42.713510Z",
     "shell.execute_reply": "2024-04-08T05:53:42.712314Z"
    },
    "papermill": {
     "duration": 0.066134,
     "end_time": "2024-04-08T05:53:42.716339",
     "exception": false,
     "start_time": "2024-04-08T05:53:42.650205",
     "status": "completed"
    },
    "tags": []
   },
   "outputs": [
    {
     "data": {
      "text/html": [
       "<div>\n",
       "<style scoped>\n",
       "    .dataframe tbody tr th:only-of-type {\n",
       "        vertical-align: middle;\n",
       "    }\n",
       "\n",
       "    .dataframe tbody tr th {\n",
       "        vertical-align: top;\n",
       "    }\n",
       "\n",
       "    .dataframe thead th {\n",
       "        text-align: right;\n",
       "    }\n",
       "</style>\n",
       "<table border=\"1\" class=\"dataframe\">\n",
       "  <thead>\n",
       "    <tr style=\"text-align: right;\">\n",
       "      <th></th>\n",
       "      <th>ID</th>\n",
       "      <th>RecipeNumber</th>\n",
       "      <th>RecipeCode</th>\n",
       "      <th>RecipeName</th>\n",
       "      <th>CommentID</th>\n",
       "      <th>UserID</th>\n",
       "      <th>UserName</th>\n",
       "      <th>UserReputation</th>\n",
       "      <th>CreationTimestamp</th>\n",
       "      <th>ReplyCount</th>\n",
       "      <th>ThumbsUpCount</th>\n",
       "      <th>ThumbsDownCount</th>\n",
       "      <th>Rating</th>\n",
       "      <th>BestScore</th>\n",
       "      <th>Recipe_Review</th>\n",
       "    </tr>\n",
       "  </thead>\n",
       "  <tbody>\n",
       "    <tr>\n",
       "      <th>2984</th>\n",
       "      <td>299</td>\n",
       "      <td>6</td>\n",
       "      <td>21444</td>\n",
       "      <td>Favorite Chicken Potpie</td>\n",
       "      <td>sp_aUSaElGf_21444_c_260817</td>\n",
       "      <td>u_1oKXz42APTrXTFF6SGvR3YMBJGy</td>\n",
       "      <td>TRGriggs</td>\n",
       "      <td>1</td>\n",
       "      <td>1622717652</td>\n",
       "      <td>0</td>\n",
       "      <td>0</td>\n",
       "      <td>0</td>\n",
       "      <td>5</td>\n",
       "      <td>100</td>\n",
       "      <td>NaN</td>\n",
       "    </tr>\n",
       "    <tr>\n",
       "      <th>11654</th>\n",
       "      <td>344</td>\n",
       "      <td>3</td>\n",
       "      <td>2832</td>\n",
       "      <td>Cheeseburger Soup</td>\n",
       "      <td>sp_aUSaElGf_2832_c_260955</td>\n",
       "      <td>u_1oKZmfyycO3xVnQeffIKHuaKT2U</td>\n",
       "      <td>No.1FamilyBaker</td>\n",
       "      <td>1</td>\n",
       "      <td>1622717645</td>\n",
       "      <td>0</td>\n",
       "      <td>0</td>\n",
       "      <td>0</td>\n",
       "      <td>5</td>\n",
       "      <td>100</td>\n",
       "      <td>NaN</td>\n",
       "    </tr>\n",
       "  </tbody>\n",
       "</table>\n",
       "</div>"
      ],
      "text/plain": [
       "        ID  RecipeNumber  RecipeCode               RecipeName  \\\n",
       "2984   299             6       21444  Favorite Chicken Potpie   \n",
       "11654  344             3        2832        Cheeseburger Soup   \n",
       "\n",
       "                        CommentID                         UserID  \\\n",
       "2984   sp_aUSaElGf_21444_c_260817  u_1oKXz42APTrXTFF6SGvR3YMBJGy   \n",
       "11654   sp_aUSaElGf_2832_c_260955  u_1oKZmfyycO3xVnQeffIKHuaKT2U   \n",
       "\n",
       "              UserName  UserReputation  CreationTimestamp  ReplyCount  \\\n",
       "2984          TRGriggs               1         1622717652           0   \n",
       "11654  No.1FamilyBaker               1         1622717645           0   \n",
       "\n",
       "       ThumbsUpCount  ThumbsDownCount  Rating  BestScore Recipe_Review  \n",
       "2984               0                0       5        100           NaN  \n",
       "11654              0                0       5        100           NaN  "
      ]
     },
     "execution_count": 17,
     "metadata": {},
     "output_type": "execute_result"
    }
   ],
   "source": [
    "null_mask = train.isnull().any(axis=1)\n",
    "null_rows = train[null_mask]\n",
    "null_rows"
   ]
  },
  {
   "cell_type": "markdown",
   "id": "c5664f59",
   "metadata": {
    "papermill": {
     "duration": 0.035298,
     "end_time": "2024-04-08T05:53:42.788631",
     "exception": false,
     "start_time": "2024-04-08T05:53:42.753333",
     "status": "completed"
    },
    "tags": []
   },
   "source": [
    "**Droping the rows which has null values.**"
   ]
  },
  {
   "cell_type": "code",
   "execution_count": 18,
   "id": "a8881684",
   "metadata": {
    "execution": {
     "iopub.execute_input": "2024-04-08T05:53:42.861537Z",
     "iopub.status.busy": "2024-04-08T05:53:42.861004Z",
     "iopub.status.idle": "2024-04-08T05:53:42.882482Z",
     "shell.execute_reply": "2024-04-08T05:53:42.881262Z"
    },
    "papermill": {
     "duration": 0.061381,
     "end_time": "2024-04-08T05:53:42.885428",
     "exception": false,
     "start_time": "2024-04-08T05:53:42.824047",
     "status": "completed"
    },
    "tags": []
   },
   "outputs": [],
   "source": [
    "train = train.dropna()\n",
    "test = test.dropna()"
   ]
  },
  {
   "cell_type": "markdown",
   "id": "86612e58",
   "metadata": {
    "papermill": {
     "duration": 0.035323,
     "end_time": "2024-04-08T05:53:42.957338",
     "exception": false,
     "start_time": "2024-04-08T05:53:42.922015",
     "status": "completed"
    },
    "tags": []
   },
   "source": [
    "**Considering Rating as target column and others are feature columns.**"
   ]
  },
  {
   "cell_type": "code",
   "execution_count": 19,
   "id": "7e9e546b",
   "metadata": {
    "execution": {
     "iopub.execute_input": "2024-04-08T05:53:43.032030Z",
     "iopub.status.busy": "2024-04-08T05:53:43.031025Z",
     "iopub.status.idle": "2024-04-08T05:53:43.042725Z",
     "shell.execute_reply": "2024-04-08T05:53:43.041504Z"
    },
    "papermill": {
     "duration": 0.051723,
     "end_time": "2024-04-08T05:53:43.045597",
     "exception": false,
     "start_time": "2024-04-08T05:53:42.993874",
     "status": "completed"
    },
    "tags": []
   },
   "outputs": [],
   "source": [
    "y = train['Rating']\n",
    "x = train.drop('Rating',axis=1)"
   ]
  },
  {
   "cell_type": "markdown",
   "id": "7e16f9f0",
   "metadata": {
    "papermill": {
     "duration": 0.036466,
     "end_time": "2024-04-08T05:53:43.118352",
     "exception": false,
     "start_time": "2024-04-08T05:53:43.081886",
     "status": "completed"
    },
    "tags": []
   },
   "source": [
    "**Checking for the null value. No null value should be there as we dropped it from the dataset.**"
   ]
  },
  {
   "cell_type": "code",
   "execution_count": 20,
   "id": "0caa66b7",
   "metadata": {
    "execution": {
     "iopub.execute_input": "2024-04-08T05:53:43.191459Z",
     "iopub.status.busy": "2024-04-08T05:53:43.190991Z",
     "iopub.status.idle": "2024-04-08T05:53:43.209643Z",
     "shell.execute_reply": "2024-04-08T05:53:43.208427Z"
    },
    "papermill": {
     "duration": 0.05851,
     "end_time": "2024-04-08T05:53:43.212325",
     "exception": false,
     "start_time": "2024-04-08T05:53:43.153815",
     "status": "completed"
    },
    "tags": []
   },
   "outputs": [
    {
     "data": {
      "text/plain": [
       "ID                   0\n",
       "RecipeNumber         0\n",
       "RecipeCode           0\n",
       "RecipeName           0\n",
       "CommentID            0\n",
       "UserID               0\n",
       "UserName             0\n",
       "UserReputation       0\n",
       "CreationTimestamp    0\n",
       "ReplyCount           0\n",
       "ThumbsUpCount        0\n",
       "ThumbsDownCount      0\n",
       "Rating               0\n",
       "BestScore            0\n",
       "Recipe_Review        0\n",
       "dtype: int64"
      ]
     },
     "execution_count": 20,
     "metadata": {},
     "output_type": "execute_result"
    }
   ],
   "source": [
    "train.isnull().sum()"
   ]
  },
  {
   "cell_type": "markdown",
   "id": "338366eb",
   "metadata": {
    "papermill": {
     "duration": 0.036466,
     "end_time": "2024-04-08T05:53:43.285016",
     "exception": false,
     "start_time": "2024-04-08T05:53:43.248550",
     "status": "completed"
    },
    "tags": []
   },
   "source": [
    "**Splitting the training data set with 20% test data set and 80% training data set.**"
   ]
  },
  {
   "cell_type": "code",
   "execution_count": 21,
   "id": "a8438732",
   "metadata": {
    "execution": {
     "iopub.execute_input": "2024-04-08T05:53:43.361278Z",
     "iopub.status.busy": "2024-04-08T05:53:43.360874Z",
     "iopub.status.idle": "2024-04-08T05:53:43.697791Z",
     "shell.execute_reply": "2024-04-08T05:53:43.696175Z"
    },
    "papermill": {
     "duration": 0.377605,
     "end_time": "2024-04-08T05:53:43.700735",
     "exception": false,
     "start_time": "2024-04-08T05:53:43.323130",
     "status": "completed"
    },
    "tags": []
   },
   "outputs": [],
   "source": [
    "from sklearn.model_selection import train_test_split\n",
    "x_train, x_test, y_train, y_test = train_test_split(x, y, random_state = 0, test_size = 0.2)"
   ]
  },
  {
   "cell_type": "markdown",
   "id": "2fa7eb24",
   "metadata": {
    "papermill": {
     "duration": 0.036865,
     "end_time": "2024-04-08T05:53:43.775023",
     "exception": false,
     "start_time": "2024-04-08T05:53:43.738158",
     "status": "completed"
    },
    "tags": []
   },
   "source": [
    "**Seperate coloumns based on data types. As there are only 2 types of data, numerical and categorical. Here it is done by make_column_selector. Then from categorical data, separated the review column as that needs diiferent kind of attention.**"
   ]
  },
  {
   "cell_type": "code",
   "execution_count": 22,
   "id": "9b7b7140",
   "metadata": {
    "execution": {
     "iopub.execute_input": "2024-04-08T05:53:43.848998Z",
     "iopub.status.busy": "2024-04-08T05:53:43.848565Z",
     "iopub.status.idle": "2024-04-08T05:53:43.863348Z",
     "shell.execute_reply": "2024-04-08T05:53:43.862324Z"
    },
    "papermill": {
     "duration": 0.055241,
     "end_time": "2024-04-08T05:53:43.865962",
     "exception": false,
     "start_time": "2024-04-08T05:53:43.810721",
     "status": "completed"
    },
    "tags": []
   },
   "outputs": [],
   "source": [
    "from sklearn.compose import make_column_selector\n",
    "numerical_col_selector = make_column_selector(dtype_exclude = object)\n",
    "categorical_col_selector = make_column_selector(dtype_include = object)\n",
    "\n",
    "x_num = numerical_col_selector(x)\n",
    "x_cat = categorical_col_selector(x)\n",
    "x_review = x_cat[4]\n",
    "x_cat.remove('Recipe_Review')"
   ]
  },
  {
   "cell_type": "markdown",
   "id": "b76dce4c",
   "metadata": {
    "papermill": {
     "duration": 0.035703,
     "end_time": "2024-04-08T05:53:43.937369",
     "exception": false,
     "start_time": "2024-04-08T05:53:43.901666",
     "status": "completed"
    },
    "tags": []
   },
   "source": [
    "**Appling one hot encoder on categorical data, standard scaler on numerical data. Tfidfvectorizer is used as feature extraction on review data.**"
   ]
  },
  {
   "cell_type": "code",
   "execution_count": 23,
   "id": "2e12763c",
   "metadata": {
    "execution": {
     "iopub.execute_input": "2024-04-08T05:53:44.013164Z",
     "iopub.status.busy": "2024-04-08T05:53:44.012762Z",
     "iopub.status.idle": "2024-04-08T05:53:44.036902Z",
     "shell.execute_reply": "2024-04-08T05:53:44.035692Z"
    },
    "papermill": {
     "duration": 0.06671,
     "end_time": "2024-04-08T05:53:44.039916",
     "exception": false,
     "start_time": "2024-04-08T05:53:43.973206",
     "status": "completed"
    },
    "tags": []
   },
   "outputs": [],
   "source": [
    "from sklearn.preprocessing import OneHotEncoder, StandardScaler\n",
    "from sklearn.feature_extraction.text import TfidfVectorizer\n",
    "from sklearn.pipeline import make_pipeline,Pipeline\n",
    "\n",
    "numerical_preprocessor = StandardScaler()\n",
    "categorical_preprocessor = OneHotEncoder(handle_unknown=\"ignore\")\n",
    "review_preprocessor = TfidfVectorizer()"
   ]
  },
  {
   "cell_type": "markdown",
   "id": "97c3c9df",
   "metadata": {
    "papermill": {
     "duration": 0.036979,
     "end_time": "2024-04-08T05:53:44.114081",
     "exception": false,
     "start_time": "2024-04-08T05:53:44.077102",
     "status": "completed"
    },
    "tags": []
   },
   "source": [
    "**Using column transformer to transform all columns in one go.**"
   ]
  },
  {
   "cell_type": "code",
   "execution_count": 24,
   "id": "4c314d6a",
   "metadata": {
    "execution": {
     "iopub.execute_input": "2024-04-08T05:53:44.187823Z",
     "iopub.status.busy": "2024-04-08T05:53:44.187033Z",
     "iopub.status.idle": "2024-04-08T05:53:44.192484Z",
     "shell.execute_reply": "2024-04-08T05:53:44.191535Z"
    },
    "papermill": {
     "duration": 0.045239,
     "end_time": "2024-04-08T05:53:44.195012",
     "exception": false,
     "start_time": "2024-04-08T05:53:44.149773",
     "status": "completed"
    },
    "tags": []
   },
   "outputs": [],
   "source": [
    "from sklearn.compose import ColumnTransformer\n",
    "\n",
    "preprocessor = ColumnTransformer([\n",
    "    ('tfidvect', review_preprocessor, x_review),\n",
    "    ('one-hot-encoder', categorical_preprocessor, x_cat),\n",
    "    ('standard-scaler', numerical_preprocessor, x_num)])"
   ]
  },
  {
   "cell_type": "markdown",
   "id": "33ef3c12",
   "metadata": {
    "papermill": {
     "duration": 0.036898,
     "end_time": "2024-04-08T05:53:44.269035",
     "exception": false,
     "start_time": "2024-04-08T05:53:44.232137",
     "status": "completed"
    },
    "tags": []
   },
   "source": [
    "**Using label encoder on target data.**"
   ]
  },
  {
   "cell_type": "code",
   "execution_count": 25,
   "id": "519f3cec",
   "metadata": {
    "execution": {
     "iopub.execute_input": "2024-04-08T05:53:44.347027Z",
     "iopub.status.busy": "2024-04-08T05:53:44.345987Z",
     "iopub.status.idle": "2024-04-08T05:53:44.352196Z",
     "shell.execute_reply": "2024-04-08T05:53:44.351319Z"
    },
    "papermill": {
     "duration": 0.047445,
     "end_time": "2024-04-08T05:53:44.354468",
     "exception": false,
     "start_time": "2024-04-08T05:53:44.307023",
     "status": "completed"
    },
    "tags": []
   },
   "outputs": [],
   "source": [
    "from sklearn.preprocessing import LabelEncoder\n",
    "le = LabelEncoder()\n",
    "y = le.fit_transform(y)"
   ]
  },
  {
   "cell_type": "code",
   "execution_count": 26,
   "id": "306a9df8",
   "metadata": {
    "execution": {
     "iopub.execute_input": "2024-04-08T05:53:44.429865Z",
     "iopub.status.busy": "2024-04-08T05:53:44.429468Z",
     "iopub.status.idle": "2024-04-08T05:53:44.435160Z",
     "shell.execute_reply": "2024-04-08T05:53:44.433888Z"
    },
    "papermill": {
     "duration": 0.046896,
     "end_time": "2024-04-08T05:53:44.437618",
     "exception": false,
     "start_time": "2024-04-08T05:53:44.390722",
     "status": "completed"
    },
    "tags": []
   },
   "outputs": [],
   "source": [
    "from sklearn.model_selection import GridSearchCV\n",
    "from sklearn.metrics import confusion_matrix, ConfusionMatrixDisplay, classification_report"
   ]
  },
  {
   "cell_type": "markdown",
   "id": "a70d3254",
   "metadata": {
    "papermill": {
     "duration": 0.036725,
     "end_time": "2024-04-08T05:53:44.512339",
     "exception": false,
     "start_time": "2024-04-08T05:53:44.475614",
     "status": "completed"
    },
    "tags": []
   },
   "source": [
    "**Logistic Regression**"
   ]
  },
  {
   "cell_type": "markdown",
   "id": "296de363",
   "metadata": {
    "papermill": {
     "duration": 0.035001,
     "end_time": "2024-04-08T05:53:44.582799",
     "exception": false,
     "start_time": "2024-04-08T05:53:44.547798",
     "status": "completed"
    },
    "tags": []
   },
   "source": [
    "**As part of hyperparameter tuning GridSearchCV is used. Here 2 parameter has been choosen. C = 0.1,0.5,1.0 and max_iter = 1000,1500,2000**"
   ]
  },
  {
   "cell_type": "code",
   "execution_count": 27,
   "id": "e3287c40",
   "metadata": {
    "execution": {
     "iopub.execute_input": "2024-04-08T05:53:44.657654Z",
     "iopub.status.busy": "2024-04-08T05:53:44.656369Z",
     "iopub.status.idle": "2024-04-08T05:53:44.780019Z",
     "shell.execute_reply": "2024-04-08T05:53:44.778841Z"
    },
    "papermill": {
     "duration": 0.163954,
     "end_time": "2024-04-08T05:53:44.782973",
     "exception": false,
     "start_time": "2024-04-08T05:53:44.619019",
     "status": "completed"
    },
    "tags": []
   },
   "outputs": [],
   "source": [
    "from sklearn.linear_model import LogisticRegression\n",
    "#params = {'C':[0.1,0.5,1.0],'max_iter': [1000,1500,2000]}\n",
    "#log_reg = LogisticRegression()\n",
    "#log_cv = GridSearchCV(log_reg,params,cv=10,scoring='accuracy')\n",
    "#le_model = make_pipeline(preprocessor, log_cv)"
   ]
  },
  {
   "cell_type": "markdown",
   "id": "02fd41a4",
   "metadata": {
    "papermill": {
     "duration": 0.035168,
     "end_time": "2024-04-08T05:53:44.854652",
     "exception": false,
     "start_time": "2024-04-08T05:53:44.819484",
     "status": "completed"
    },
    "tags": []
   },
   "source": [
    "**Fitting the model with training dataset**"
   ]
  },
  {
   "cell_type": "code",
   "execution_count": 28,
   "id": "617ad72b",
   "metadata": {
    "execution": {
     "iopub.execute_input": "2024-04-08T05:53:44.928575Z",
     "iopub.status.busy": "2024-04-08T05:53:44.927398Z",
     "iopub.status.idle": "2024-04-08T05:53:44.932221Z",
     "shell.execute_reply": "2024-04-08T05:53:44.931285Z"
    },
    "papermill": {
     "duration": 0.044728,
     "end_time": "2024-04-08T05:53:44.935005",
     "exception": false,
     "start_time": "2024-04-08T05:53:44.890277",
     "status": "completed"
    },
    "tags": []
   },
   "outputs": [],
   "source": [
    "#le_model.fit(x_train,y_train)"
   ]
  },
  {
   "cell_type": "markdown",
   "id": "54fc0e10",
   "metadata": {
    "papermill": {
     "duration": 0.03591,
     "end_time": "2024-04-08T05:53:45.007735",
     "exception": false,
     "start_time": "2024-04-08T05:53:44.971825",
     "status": "completed"
    },
    "tags": []
   },
   "source": [
    "**Best Parameters of logistic regression**\n",
    "\n",
    "C = 1.0, max_iter=1000"
   ]
  },
  {
   "cell_type": "code",
   "execution_count": 29,
   "id": "0b1a84a5",
   "metadata": {
    "execution": {
     "iopub.execute_input": "2024-04-08T05:53:45.082073Z",
     "iopub.status.busy": "2024-04-08T05:53:45.081316Z",
     "iopub.status.idle": "2024-04-08T05:53:45.085937Z",
     "shell.execute_reply": "2024-04-08T05:53:45.084733Z"
    },
    "papermill": {
     "duration": 0.045385,
     "end_time": "2024-04-08T05:53:45.088510",
     "exception": false,
     "start_time": "2024-04-08T05:53:45.043125",
     "status": "completed"
    },
    "tags": []
   },
   "outputs": [],
   "source": [
    "#log_cv.best_params_"
   ]
  },
  {
   "cell_type": "markdown",
   "id": "f1ab544d",
   "metadata": {
    "papermill": {
     "duration": 0.03538,
     "end_time": "2024-04-08T05:53:45.161475",
     "exception": false,
     "start_time": "2024-04-08T05:53:45.126095",
     "status": "completed"
    },
    "tags": []
   },
   "source": [
    "**Best Extmators of logistic regression**"
   ]
  },
  {
   "cell_type": "code",
   "execution_count": 30,
   "id": "6c8e40d1",
   "metadata": {
    "execution": {
     "iopub.execute_input": "2024-04-08T05:53:45.237282Z",
     "iopub.status.busy": "2024-04-08T05:53:45.236498Z",
     "iopub.status.idle": "2024-04-08T05:53:45.241234Z",
     "shell.execute_reply": "2024-04-08T05:53:45.239815Z"
    },
    "papermill": {
     "duration": 0.046834,
     "end_time": "2024-04-08T05:53:45.243837",
     "exception": false,
     "start_time": "2024-04-08T05:53:45.197003",
     "status": "completed"
    },
    "tags": []
   },
   "outputs": [],
   "source": [
    "#log_cv.best_estimator_"
   ]
  },
  {
   "cell_type": "markdown",
   "id": "5519160c",
   "metadata": {
    "papermill": {
     "duration": 0.035404,
     "end_time": "2024-04-08T05:53:45.316758",
     "exception": false,
     "start_time": "2024-04-08T05:53:45.281354",
     "status": "completed"
    },
    "tags": []
   },
   "source": [
    "**Logistic Regression using best parameters**"
   ]
  },
  {
   "cell_type": "code",
   "execution_count": 31,
   "id": "5e9a95b7",
   "metadata": {
    "execution": {
     "iopub.execute_input": "2024-04-08T05:53:45.390319Z",
     "iopub.status.busy": "2024-04-08T05:53:45.389551Z",
     "iopub.status.idle": "2024-04-08T05:54:16.614722Z",
     "shell.execute_reply": "2024-04-08T05:54:16.613548Z"
    },
    "papermill": {
     "duration": 31.301808,
     "end_time": "2024-04-08T05:54:16.654213",
     "exception": false,
     "start_time": "2024-04-08T05:53:45.352405",
     "status": "completed"
    },
    "tags": []
   },
   "outputs": [
    {
     "data": {
      "text/html": [
       "<style>#sk-container-id-1 {color: black;background-color: white;}#sk-container-id-1 pre{padding: 0;}#sk-container-id-1 div.sk-toggleable {background-color: white;}#sk-container-id-1 label.sk-toggleable__label {cursor: pointer;display: block;width: 100%;margin-bottom: 0;padding: 0.3em;box-sizing: border-box;text-align: center;}#sk-container-id-1 label.sk-toggleable__label-arrow:before {content: \"▸\";float: left;margin-right: 0.25em;color: #696969;}#sk-container-id-1 label.sk-toggleable__label-arrow:hover:before {color: black;}#sk-container-id-1 div.sk-estimator:hover label.sk-toggleable__label-arrow:before {color: black;}#sk-container-id-1 div.sk-toggleable__content {max-height: 0;max-width: 0;overflow: hidden;text-align: left;background-color: #f0f8ff;}#sk-container-id-1 div.sk-toggleable__content pre {margin: 0.2em;color: black;border-radius: 0.25em;background-color: #f0f8ff;}#sk-container-id-1 input.sk-toggleable__control:checked~div.sk-toggleable__content {max-height: 200px;max-width: 100%;overflow: auto;}#sk-container-id-1 input.sk-toggleable__control:checked~label.sk-toggleable__label-arrow:before {content: \"▾\";}#sk-container-id-1 div.sk-estimator input.sk-toggleable__control:checked~label.sk-toggleable__label {background-color: #d4ebff;}#sk-container-id-1 div.sk-label input.sk-toggleable__control:checked~label.sk-toggleable__label {background-color: #d4ebff;}#sk-container-id-1 input.sk-hidden--visually {border: 0;clip: rect(1px 1px 1px 1px);clip: rect(1px, 1px, 1px, 1px);height: 1px;margin: -1px;overflow: hidden;padding: 0;position: absolute;width: 1px;}#sk-container-id-1 div.sk-estimator {font-family: monospace;background-color: #f0f8ff;border: 1px dotted black;border-radius: 0.25em;box-sizing: border-box;margin-bottom: 0.5em;}#sk-container-id-1 div.sk-estimator:hover {background-color: #d4ebff;}#sk-container-id-1 div.sk-parallel-item::after {content: \"\";width: 100%;border-bottom: 1px solid gray;flex-grow: 1;}#sk-container-id-1 div.sk-label:hover label.sk-toggleable__label {background-color: #d4ebff;}#sk-container-id-1 div.sk-serial::before {content: \"\";position: absolute;border-left: 1px solid gray;box-sizing: border-box;top: 0;bottom: 0;left: 50%;z-index: 0;}#sk-container-id-1 div.sk-serial {display: flex;flex-direction: column;align-items: center;background-color: white;padding-right: 0.2em;padding-left: 0.2em;position: relative;}#sk-container-id-1 div.sk-item {position: relative;z-index: 1;}#sk-container-id-1 div.sk-parallel {display: flex;align-items: stretch;justify-content: center;background-color: white;position: relative;}#sk-container-id-1 div.sk-item::before, #sk-container-id-1 div.sk-parallel-item::before {content: \"\";position: absolute;border-left: 1px solid gray;box-sizing: border-box;top: 0;bottom: 0;left: 50%;z-index: -1;}#sk-container-id-1 div.sk-parallel-item {display: flex;flex-direction: column;z-index: 1;position: relative;background-color: white;}#sk-container-id-1 div.sk-parallel-item:first-child::after {align-self: flex-end;width: 50%;}#sk-container-id-1 div.sk-parallel-item:last-child::after {align-self: flex-start;width: 50%;}#sk-container-id-1 div.sk-parallel-item:only-child::after {width: 0;}#sk-container-id-1 div.sk-dashed-wrapped {border: 1px dashed gray;margin: 0 0.4em 0.5em 0.4em;box-sizing: border-box;padding-bottom: 0.4em;background-color: white;}#sk-container-id-1 div.sk-label label {font-family: monospace;font-weight: bold;display: inline-block;line-height: 1.2em;}#sk-container-id-1 div.sk-label-container {text-align: center;}#sk-container-id-1 div.sk-container {/* jupyter's `normalize.less` sets `[hidden] { display: none; }` but bootstrap.min.css set `[hidden] { display: none !important; }` so we also need the `!important` here to be able to override the default hidden behavior on the sphinx rendered scikit-learn.org. See: https://github.com/scikit-learn/scikit-learn/issues/21755 */display: inline-block !important;position: relative;}#sk-container-id-1 div.sk-text-repr-fallback {display: none;}</style><div id=\"sk-container-id-1\" class=\"sk-top-container\"><div class=\"sk-text-repr-fallback\"><pre>Pipeline(steps=[(&#x27;columntransformer&#x27;,\n",
       "                 ColumnTransformer(transformers=[(&#x27;tfidvect&#x27;, TfidfVectorizer(),\n",
       "                                                  &#x27;Recipe_Review&#x27;),\n",
       "                                                 (&#x27;one-hot-encoder&#x27;,\n",
       "                                                  OneHotEncoder(handle_unknown=&#x27;ignore&#x27;),\n",
       "                                                  [&#x27;RecipeName&#x27;, &#x27;CommentID&#x27;,\n",
       "                                                   &#x27;UserID&#x27;, &#x27;UserName&#x27;]),\n",
       "                                                 (&#x27;standard-scaler&#x27;,\n",
       "                                                  StandardScaler(),\n",
       "                                                  [&#x27;ID&#x27;, &#x27;RecipeNumber&#x27;,\n",
       "                                                   &#x27;RecipeCode&#x27;,\n",
       "                                                   &#x27;UserReputation&#x27;,\n",
       "                                                   &#x27;CreationTimestamp&#x27;,\n",
       "                                                   &#x27;ReplyCount&#x27;,\n",
       "                                                   &#x27;ThumbsUpCount&#x27;,\n",
       "                                                   &#x27;ThumbsDownCount&#x27;,\n",
       "                                                   &#x27;BestScore&#x27;])])),\n",
       "                (&#x27;logisticregression&#x27;, LogisticRegression(max_iter=1000))])</pre><b>In a Jupyter environment, please rerun this cell to show the HTML representation or trust the notebook. <br />On GitHub, the HTML representation is unable to render, please try loading this page with nbviewer.org.</b></div><div class=\"sk-container\" hidden><div class=\"sk-item sk-dashed-wrapped\"><div class=\"sk-label-container\"><div class=\"sk-label sk-toggleable\"><input class=\"sk-toggleable__control sk-hidden--visually\" id=\"sk-estimator-id-1\" type=\"checkbox\" ><label for=\"sk-estimator-id-1\" class=\"sk-toggleable__label sk-toggleable__label-arrow\">Pipeline</label><div class=\"sk-toggleable__content\"><pre>Pipeline(steps=[(&#x27;columntransformer&#x27;,\n",
       "                 ColumnTransformer(transformers=[(&#x27;tfidvect&#x27;, TfidfVectorizer(),\n",
       "                                                  &#x27;Recipe_Review&#x27;),\n",
       "                                                 (&#x27;one-hot-encoder&#x27;,\n",
       "                                                  OneHotEncoder(handle_unknown=&#x27;ignore&#x27;),\n",
       "                                                  [&#x27;RecipeName&#x27;, &#x27;CommentID&#x27;,\n",
       "                                                   &#x27;UserID&#x27;, &#x27;UserName&#x27;]),\n",
       "                                                 (&#x27;standard-scaler&#x27;,\n",
       "                                                  StandardScaler(),\n",
       "                                                  [&#x27;ID&#x27;, &#x27;RecipeNumber&#x27;,\n",
       "                                                   &#x27;RecipeCode&#x27;,\n",
       "                                                   &#x27;UserReputation&#x27;,\n",
       "                                                   &#x27;CreationTimestamp&#x27;,\n",
       "                                                   &#x27;ReplyCount&#x27;,\n",
       "                                                   &#x27;ThumbsUpCount&#x27;,\n",
       "                                                   &#x27;ThumbsDownCount&#x27;,\n",
       "                                                   &#x27;BestScore&#x27;])])),\n",
       "                (&#x27;logisticregression&#x27;, LogisticRegression(max_iter=1000))])</pre></div></div></div><div class=\"sk-serial\"><div class=\"sk-item sk-dashed-wrapped\"><div class=\"sk-label-container\"><div class=\"sk-label sk-toggleable\"><input class=\"sk-toggleable__control sk-hidden--visually\" id=\"sk-estimator-id-2\" type=\"checkbox\" ><label for=\"sk-estimator-id-2\" class=\"sk-toggleable__label sk-toggleable__label-arrow\">columntransformer: ColumnTransformer</label><div class=\"sk-toggleable__content\"><pre>ColumnTransformer(transformers=[(&#x27;tfidvect&#x27;, TfidfVectorizer(),\n",
       "                                 &#x27;Recipe_Review&#x27;),\n",
       "                                (&#x27;one-hot-encoder&#x27;,\n",
       "                                 OneHotEncoder(handle_unknown=&#x27;ignore&#x27;),\n",
       "                                 [&#x27;RecipeName&#x27;, &#x27;CommentID&#x27;, &#x27;UserID&#x27;,\n",
       "                                  &#x27;UserName&#x27;]),\n",
       "                                (&#x27;standard-scaler&#x27;, StandardScaler(),\n",
       "                                 [&#x27;ID&#x27;, &#x27;RecipeNumber&#x27;, &#x27;RecipeCode&#x27;,\n",
       "                                  &#x27;UserReputation&#x27;, &#x27;CreationTimestamp&#x27;,\n",
       "                                  &#x27;ReplyCount&#x27;, &#x27;ThumbsUpCount&#x27;,\n",
       "                                  &#x27;ThumbsDownCount&#x27;, &#x27;BestScore&#x27;])])</pre></div></div></div><div class=\"sk-parallel\"><div class=\"sk-parallel-item\"><div class=\"sk-item\"><div class=\"sk-label-container\"><div class=\"sk-label sk-toggleable\"><input class=\"sk-toggleable__control sk-hidden--visually\" id=\"sk-estimator-id-3\" type=\"checkbox\" ><label for=\"sk-estimator-id-3\" class=\"sk-toggleable__label sk-toggleable__label-arrow\">tfidvect</label><div class=\"sk-toggleable__content\"><pre>Recipe_Review</pre></div></div></div><div class=\"sk-serial\"><div class=\"sk-item\"><div class=\"sk-estimator sk-toggleable\"><input class=\"sk-toggleable__control sk-hidden--visually\" id=\"sk-estimator-id-4\" type=\"checkbox\" ><label for=\"sk-estimator-id-4\" class=\"sk-toggleable__label sk-toggleable__label-arrow\">TfidfVectorizer</label><div class=\"sk-toggleable__content\"><pre>TfidfVectorizer()</pre></div></div></div></div></div></div><div class=\"sk-parallel-item\"><div class=\"sk-item\"><div class=\"sk-label-container\"><div class=\"sk-label sk-toggleable\"><input class=\"sk-toggleable__control sk-hidden--visually\" id=\"sk-estimator-id-5\" type=\"checkbox\" ><label for=\"sk-estimator-id-5\" class=\"sk-toggleable__label sk-toggleable__label-arrow\">one-hot-encoder</label><div class=\"sk-toggleable__content\"><pre>[&#x27;RecipeName&#x27;, &#x27;CommentID&#x27;, &#x27;UserID&#x27;, &#x27;UserName&#x27;]</pre></div></div></div><div class=\"sk-serial\"><div class=\"sk-item\"><div class=\"sk-estimator sk-toggleable\"><input class=\"sk-toggleable__control sk-hidden--visually\" id=\"sk-estimator-id-6\" type=\"checkbox\" ><label for=\"sk-estimator-id-6\" class=\"sk-toggleable__label sk-toggleable__label-arrow\">OneHotEncoder</label><div class=\"sk-toggleable__content\"><pre>OneHotEncoder(handle_unknown=&#x27;ignore&#x27;)</pre></div></div></div></div></div></div><div class=\"sk-parallel-item\"><div class=\"sk-item\"><div class=\"sk-label-container\"><div class=\"sk-label sk-toggleable\"><input class=\"sk-toggleable__control sk-hidden--visually\" id=\"sk-estimator-id-7\" type=\"checkbox\" ><label for=\"sk-estimator-id-7\" class=\"sk-toggleable__label sk-toggleable__label-arrow\">standard-scaler</label><div class=\"sk-toggleable__content\"><pre>[&#x27;ID&#x27;, &#x27;RecipeNumber&#x27;, &#x27;RecipeCode&#x27;, &#x27;UserReputation&#x27;, &#x27;CreationTimestamp&#x27;, &#x27;ReplyCount&#x27;, &#x27;ThumbsUpCount&#x27;, &#x27;ThumbsDownCount&#x27;, &#x27;BestScore&#x27;]</pre></div></div></div><div class=\"sk-serial\"><div class=\"sk-item\"><div class=\"sk-estimator sk-toggleable\"><input class=\"sk-toggleable__control sk-hidden--visually\" id=\"sk-estimator-id-8\" type=\"checkbox\" ><label for=\"sk-estimator-id-8\" class=\"sk-toggleable__label sk-toggleable__label-arrow\">StandardScaler</label><div class=\"sk-toggleable__content\"><pre>StandardScaler()</pre></div></div></div></div></div></div></div></div><div class=\"sk-item\"><div class=\"sk-estimator sk-toggleable\"><input class=\"sk-toggleable__control sk-hidden--visually\" id=\"sk-estimator-id-9\" type=\"checkbox\" ><label for=\"sk-estimator-id-9\" class=\"sk-toggleable__label sk-toggleable__label-arrow\">LogisticRegression</label><div class=\"sk-toggleable__content\"><pre>LogisticRegression(max_iter=1000)</pre></div></div></div></div></div></div></div>"
      ],
      "text/plain": [
       "Pipeline(steps=[('columntransformer',\n",
       "                 ColumnTransformer(transformers=[('tfidvect', TfidfVectorizer(),\n",
       "                                                  'Recipe_Review'),\n",
       "                                                 ('one-hot-encoder',\n",
       "                                                  OneHotEncoder(handle_unknown='ignore'),\n",
       "                                                  ['RecipeName', 'CommentID',\n",
       "                                                   'UserID', 'UserName']),\n",
       "                                                 ('standard-scaler',\n",
       "                                                  StandardScaler(),\n",
       "                                                  ['ID', 'RecipeNumber',\n",
       "                                                   'RecipeCode',\n",
       "                                                   'UserReputation',\n",
       "                                                   'CreationTimestamp',\n",
       "                                                   'ReplyCount',\n",
       "                                                   'ThumbsUpCount',\n",
       "                                                   'ThumbsDownCount',\n",
       "                                                   'BestScore'])])),\n",
       "                ('logisticregression', LogisticRegression(max_iter=1000))])"
      ]
     },
     "execution_count": 31,
     "metadata": {},
     "output_type": "execute_result"
    }
   ],
   "source": [
    "le_model_final = make_pipeline(preprocessor,LogisticRegression(C=1.0,max_iter=1000))\n",
    "le_model_final.fit(x_train,y_train)"
   ]
  },
  {
   "cell_type": "markdown",
   "id": "82af4be7",
   "metadata": {
    "papermill": {
     "duration": 0.036428,
     "end_time": "2024-04-08T05:54:16.728712",
     "exception": false,
     "start_time": "2024-04-08T05:54:16.692284",
     "status": "completed"
    },
    "tags": []
   },
   "source": [
    "**Prediction of rating based on test dataset**"
   ]
  },
  {
   "cell_type": "code",
   "execution_count": 32,
   "id": "12fd9e20",
   "metadata": {
    "execution": {
     "iopub.execute_input": "2024-04-08T05:54:16.806014Z",
     "iopub.status.busy": "2024-04-08T05:54:16.805632Z",
     "iopub.status.idle": "2024-04-08T05:54:17.040047Z",
     "shell.execute_reply": "2024-04-08T05:54:17.039011Z"
    },
    "papermill": {
     "duration": 0.276098,
     "end_time": "2024-04-08T05:54:17.042796",
     "exception": false,
     "start_time": "2024-04-08T05:54:16.766698",
     "status": "completed"
    },
    "tags": []
   },
   "outputs": [],
   "source": [
    "le_pred = le_model_final.predict(x_test)"
   ]
  },
  {
   "cell_type": "markdown",
   "id": "484ddc7c",
   "metadata": {
    "papermill": {
     "duration": 0.036589,
     "end_time": "2024-04-08T05:54:17.116009",
     "exception": false,
     "start_time": "2024-04-08T05:54:17.079420",
     "status": "completed"
    },
    "tags": []
   },
   "source": [
    "**Confusion Matrix using logistic regression model**"
   ]
  },
  {
   "cell_type": "code",
   "execution_count": 33,
   "id": "71788ead",
   "metadata": {
    "execution": {
     "iopub.execute_input": "2024-04-08T05:54:17.195760Z",
     "iopub.status.busy": "2024-04-08T05:54:17.195069Z",
     "iopub.status.idle": "2024-04-08T05:54:17.205121Z",
     "shell.execute_reply": "2024-04-08T05:54:17.203830Z"
    },
    "papermill": {
     "duration": 0.052744,
     "end_time": "2024-04-08T05:54:17.207775",
     "exception": false,
     "start_time": "2024-04-08T05:54:17.155031",
     "status": "completed"
    },
    "tags": []
   },
   "outputs": [
    {
     "data": {
      "text/plain": [
       "array([[  44,    1,    1,    0,    0,  224],\n",
       "       [   2,    6,    0,    2,    1,   37],\n",
       "       [   0,    2,    1,    1,    5,   21],\n",
       "       [   6,    1,    1,    7,   10,   59],\n",
       "       [   7,    0,    0,    1,   28,  213],\n",
       "       [  14,    0,    0,    0,    8, 2024]])"
      ]
     },
     "execution_count": 33,
     "metadata": {},
     "output_type": "execute_result"
    }
   ],
   "source": [
    "le_cm = confusion_matrix(y_test, le_pred)\n",
    "le_cm"
   ]
  },
  {
   "cell_type": "markdown",
   "id": "cea7294b",
   "metadata": {
    "papermill": {
     "duration": 0.036585,
     "end_time": "2024-04-08T05:54:17.282089",
     "exception": false,
     "start_time": "2024-04-08T05:54:17.245504",
     "status": "completed"
    },
    "tags": []
   },
   "source": [
    "**Confusion matrix display using logistic regression model**"
   ]
  },
  {
   "cell_type": "code",
   "execution_count": 34,
   "id": "9c8b73ed",
   "metadata": {
    "execution": {
     "iopub.execute_input": "2024-04-08T05:54:17.360426Z",
     "iopub.status.busy": "2024-04-08T05:54:17.360015Z",
     "iopub.status.idle": "2024-04-08T05:54:17.781658Z",
     "shell.execute_reply": "2024-04-08T05:54:17.780532Z"
    },
    "papermill": {
     "duration": 0.464536,
     "end_time": "2024-04-08T05:54:17.785128",
     "exception": false,
     "start_time": "2024-04-08T05:54:17.320592",
     "status": "completed"
    },
    "tags": []
   },
   "outputs": [
    {
     "data": {
      "image/png": "[encoded data removed]",
      "text/plain": [
       "<Figure size 640x480 with 2 Axes>"
      ]
     },
     "metadata": {},
     "output_type": "display_data"
    }
   ],
   "source": [
    "le_disp = ConfusionMatrixDisplay(confusion_matrix=le_cm)\n",
    "le_disp.plot()\n",
    "plt.show()"
   ]
  },
  {
   "cell_type": "markdown",
   "id": "72500613",
   "metadata": {
    "papermill": {
     "duration": 0.038813,
     "end_time": "2024-04-08T05:54:17.863850",
     "exception": false,
     "start_time": "2024-04-08T05:54:17.825037",
     "status": "completed"
    },
    "tags": []
   },
   "source": [
    "**Classification report using logistic regression model**"
   ]
  },
  {
   "cell_type": "code",
   "execution_count": 35,
   "id": "0e38359d",
   "metadata": {
    "execution": {
     "iopub.execute_input": "2024-04-08T05:54:17.943364Z",
     "iopub.status.busy": "2024-04-08T05:54:17.942092Z",
     "iopub.status.idle": "2024-04-08T05:54:17.961047Z",
     "shell.execute_reply": "2024-04-08T05:54:17.959159Z"
    },
    "papermill": {
     "duration": 0.062353,
     "end_time": "2024-04-08T05:54:17.963947",
     "exception": false,
     "start_time": "2024-04-08T05:54:17.901594",
     "status": "completed"
    },
    "tags": []
   },
   "outputs": [
    {
     "name": "stdout",
     "output_type": "stream",
     "text": [
      "              precision    recall  f1-score   support\n",
      "\n",
      "           0       0.60      0.16      0.26       270\n",
      "           1       0.60      0.12      0.21        48\n",
      "           2       0.33      0.03      0.06        30\n",
      "           3       0.64      0.08      0.15        84\n",
      "           4       0.54      0.11      0.19       249\n",
      "           5       0.79      0.99      0.88      2046\n",
      "\n",
      "    accuracy                           0.77      2727\n",
      "   macro avg       0.58      0.25      0.29      2727\n",
      "weighted avg       0.73      0.77      0.71      2727\n",
      "\n"
     ]
    }
   ],
   "source": [
    "print(classification_report(y_test, le_pred)) "
   ]
  },
  {
   "cell_type": "markdown",
   "id": "32694b1d",
   "metadata": {
    "papermill": {
     "duration": 0.038105,
     "end_time": "2024-04-08T05:54:18.040554",
     "exception": false,
     "start_time": "2024-04-08T05:54:18.002449",
     "status": "completed"
    },
    "tags": []
   },
   "source": [
    "**KNN Algorithm**"
   ]
  },
  {
   "cell_type": "markdown",
   "id": "3dd34214",
   "metadata": {
    "papermill": {
     "duration": 0.038785,
     "end_time": "2024-04-08T05:54:18.117294",
     "exception": false,
     "start_time": "2024-04-08T05:54:18.078509",
     "status": "completed"
    },
    "tags": []
   },
   "source": [
    "**As part of hyperparameter tuning GridSearchCV is used. Here 1 parameter has been choosen. n_neighbors = 10,20,30**"
   ]
  },
  {
   "cell_type": "code",
   "execution_count": 36,
   "id": "c4e7ebc8",
   "metadata": {
    "execution": {
     "iopub.execute_input": "2024-04-08T05:54:18.197942Z",
     "iopub.status.busy": "2024-04-08T05:54:18.197498Z",
     "iopub.status.idle": "2024-04-08T05:54:18.283051Z",
     "shell.execute_reply": "2024-04-08T05:54:18.281683Z"
    },
    "papermill": {
     "duration": 0.12967,
     "end_time": "2024-04-08T05:54:18.285991",
     "exception": false,
     "start_time": "2024-04-08T05:54:18.156321",
     "status": "completed"
    },
    "tags": []
   },
   "outputs": [],
   "source": [
    "from sklearn.neighbors import KNeighborsClassifier \n",
    "#params = {'n_neighbors':[10,20,30]}\n",
    "#knn_reg = KNeighborsClassifier()\n",
    "#knn_cv = GridSearchCV(knn_reg,params,cv=10,scoring='accuracy')\n",
    "#knn_model = make_pipeline(preprocessor, knn_cv)"
   ]
  },
  {
   "cell_type": "markdown",
   "id": "1aef8c0e",
   "metadata": {
    "papermill": {
     "duration": 0.03755,
     "end_time": "2024-04-08T05:54:18.362593",
     "exception": false,
     "start_time": "2024-04-08T05:54:18.325043",
     "status": "completed"
    },
    "tags": []
   },
   "source": [
    "**Fitting the model with training dataset**"
   ]
  },
  {
   "cell_type": "code",
   "execution_count": 37,
   "id": "36f10b64",
   "metadata": {
    "execution": {
     "iopub.execute_input": "2024-04-08T05:54:18.442776Z",
     "iopub.status.busy": "2024-04-08T05:54:18.442329Z",
     "iopub.status.idle": "2024-04-08T05:54:18.447869Z",
     "shell.execute_reply": "2024-04-08T05:54:18.446865Z"
    },
    "papermill": {
     "duration": 0.049562,
     "end_time": "2024-04-08T05:54:18.450402",
     "exception": false,
     "start_time": "2024-04-08T05:54:18.400840",
     "status": "completed"
    },
    "tags": []
   },
   "outputs": [],
   "source": [
    "#knn_model.fit(x_train,y_train)"
   ]
  },
  {
   "cell_type": "markdown",
   "id": "e7f9b78e",
   "metadata": {
    "papermill": {
     "duration": 0.03711,
     "end_time": "2024-04-08T05:54:18.524968",
     "exception": false,
     "start_time": "2024-04-08T05:54:18.487858",
     "status": "completed"
    },
    "tags": []
   },
   "source": [
    "**Best parameters of KNN Model**\n",
    "\n",
    "n_neighbors=20"
   ]
  },
  {
   "cell_type": "code",
   "execution_count": 38,
   "id": "539ae851",
   "metadata": {
    "execution": {
     "iopub.execute_input": "2024-04-08T05:54:18.603592Z",
     "iopub.status.busy": "2024-04-08T05:54:18.603130Z",
     "iopub.status.idle": "2024-04-08T05:54:18.609087Z",
     "shell.execute_reply": "2024-04-08T05:54:18.607802Z"
    },
    "papermill": {
     "duration": 0.04947,
     "end_time": "2024-04-08T05:54:18.611602",
     "exception": false,
     "start_time": "2024-04-08T05:54:18.562132",
     "status": "completed"
    },
    "tags": []
   },
   "outputs": [],
   "source": [
    "#knn_cv.best_params_"
   ]
  },
  {
   "cell_type": "markdown",
   "id": "67340972",
   "metadata": {
    "papermill": {
     "duration": 0.036961,
     "end_time": "2024-04-08T05:54:18.686468",
     "exception": false,
     "start_time": "2024-04-08T05:54:18.649507",
     "status": "completed"
    },
    "tags": []
   },
   "source": [
    "**Best estimators of KNN Model**"
   ]
  },
  {
   "cell_type": "code",
   "execution_count": 39,
   "id": "6e85ad16",
   "metadata": {
    "execution": {
     "iopub.execute_input": "2024-04-08T05:54:18.764957Z",
     "iopub.status.busy": "2024-04-08T05:54:18.764562Z",
     "iopub.status.idle": "2024-04-08T05:54:18.769760Z",
     "shell.execute_reply": "2024-04-08T05:54:18.768351Z"
    },
    "papermill": {
     "duration": 0.048452,
     "end_time": "2024-04-08T05:54:18.772627",
     "exception": false,
     "start_time": "2024-04-08T05:54:18.724175",
     "status": "completed"
    },
    "tags": []
   },
   "outputs": [],
   "source": [
    "#knn_cv.best_estimator_"
   ]
  },
  {
   "cell_type": "markdown",
   "id": "0d2c4391",
   "metadata": {
    "papermill": {
     "duration": 0.038758,
     "end_time": "2024-04-08T05:54:18.852113",
     "exception": false,
     "start_time": "2024-04-08T05:54:18.813355",
     "status": "completed"
    },
    "tags": []
   },
   "source": [
    "**KNN Classifier using best parameters**"
   ]
  },
  {
   "cell_type": "code",
   "execution_count": 40,
   "id": "fba493d1",
   "metadata": {
    "execution": {
     "iopub.execute_input": "2024-04-08T05:54:18.931727Z",
     "iopub.status.busy": "2024-04-08T05:54:18.931299Z",
     "iopub.status.idle": "2024-04-08T05:54:19.789953Z",
     "shell.execute_reply": "2024-04-08T05:54:19.788708Z"
    },
    "papermill": {
     "duration": 0.902261,
     "end_time": "2024-04-08T05:54:19.792423",
     "exception": false,
     "start_time": "2024-04-08T05:54:18.890162",
     "status": "completed"
    },
    "tags": []
   },
   "outputs": [
    {
     "data": {
      "text/html": [
       "<style>#sk-container-id-2 {color: black;background-color: white;}#sk-container-id-2 pre{padding: 0;}#sk-container-id-2 div.sk-toggleable {background-color: white;}#sk-container-id-2 label.sk-toggleable__label {cursor: pointer;display: block;width: 100%;margin-bottom: 0;padding: 0.3em;box-sizing: border-box;text-align: center;}#sk-container-id-2 label.sk-toggleable__label-arrow:before {content: \"▸\";float: left;margin-right: 0.25em;color: #696969;}#sk-container-id-2 label.sk-toggleable__label-arrow:hover:before {color: black;}#sk-container-id-2 div.sk-estimator:hover label.sk-toggleable__label-arrow:before {color: black;}#sk-container-id-2 div.sk-toggleable__content {max-height: 0;max-width: 0;overflow: hidden;text-align: left;background-color: #f0f8ff;}#sk-container-id-2 div.sk-toggleable__content pre {margin: 0.2em;color: black;border-radius: 0.25em;background-color: #f0f8ff;}#sk-container-id-2 input.sk-toggleable__control:checked~div.sk-toggleable__content {max-height: 200px;max-width: 100%;overflow: auto;}#sk-container-id-2 input.sk-toggleable__control:checked~label.sk-toggleable__label-arrow:before {content: \"▾\";}#sk-container-id-2 div.sk-estimator input.sk-toggleable__control:checked~label.sk-toggleable__label {background-color: #d4ebff;}#sk-container-id-2 div.sk-label input.sk-toggleable__control:checked~label.sk-toggleable__label {background-color: #d4ebff;}#sk-container-id-2 input.sk-hidden--visually {border: 0;clip: rect(1px 1px 1px 1px);clip: rect(1px, 1px, 1px, 1px);height: 1px;margin: -1px;overflow: hidden;padding: 0;position: absolute;width: 1px;}#sk-container-id-2 div.sk-estimator {font-family: monospace;background-color: #f0f8ff;border: 1px dotted black;border-radius: 0.25em;box-sizing: border-box;margin-bottom: 0.5em;}#sk-container-id-2 div.sk-estimator:hover {background-color: #d4ebff;}#sk-container-id-2 div.sk-parallel-item::after {content: \"\";width: 100%;border-bottom: 1px solid gray;flex-grow: 1;}#sk-container-id-2 div.sk-label:hover label.sk-toggleable__label {background-color: #d4ebff;}#sk-container-id-2 div.sk-serial::before {content: \"\";position: absolute;border-left: 1px solid gray;box-sizing: border-box;top: 0;bottom: 0;left: 50%;z-index: 0;}#sk-container-id-2 div.sk-serial {display: flex;flex-direction: column;align-items: center;background-color: white;padding-right: 0.2em;padding-left: 0.2em;position: relative;}#sk-container-id-2 div.sk-item {position: relative;z-index: 1;}#sk-container-id-2 div.sk-parallel {display: flex;align-items: stretch;justify-content: center;background-color: white;position: relative;}#sk-container-id-2 div.sk-item::before, #sk-container-id-2 div.sk-parallel-item::before {content: \"\";position: absolute;border-left: 1px solid gray;box-sizing: border-box;top: 0;bottom: 0;left: 50%;z-index: -1;}#sk-container-id-2 div.sk-parallel-item {display: flex;flex-direction: column;z-index: 1;position: relative;background-color: white;}#sk-container-id-2 div.sk-parallel-item:first-child::after {align-self: flex-end;width: 50%;}#sk-container-id-2 div.sk-parallel-item:last-child::after {align-self: flex-start;width: 50%;}#sk-container-id-2 div.sk-parallel-item:only-child::after {width: 0;}#sk-container-id-2 div.sk-dashed-wrapped {border: 1px dashed gray;margin: 0 0.4em 0.5em 0.4em;box-sizing: border-box;padding-bottom: 0.4em;background-color: white;}#sk-container-id-2 div.sk-label label {font-family: monospace;font-weight: bold;display: inline-block;line-height: 1.2em;}#sk-container-id-2 div.sk-label-container {text-align: center;}#sk-container-id-2 div.sk-container {/* jupyter's `normalize.less` sets `[hidden] { display: none; }` but bootstrap.min.css set `[hidden] { display: none !important; }` so we also need the `!important` here to be able to override the default hidden behavior on the sphinx rendered scikit-learn.org. See: https://github.com/scikit-learn/scikit-learn/issues/21755 */display: inline-block !important;position: relative;}#sk-container-id-2 div.sk-text-repr-fallback {display: none;}</style><div id=\"sk-container-id-2\" class=\"sk-top-container\"><div class=\"sk-text-repr-fallback\"><pre>Pipeline(steps=[(&#x27;columntransformer&#x27;,\n",
       "                 ColumnTransformer(transformers=[(&#x27;tfidvect&#x27;, TfidfVectorizer(),\n",
       "                                                  &#x27;Recipe_Review&#x27;),\n",
       "                                                 (&#x27;one-hot-encoder&#x27;,\n",
       "                                                  OneHotEncoder(handle_unknown=&#x27;ignore&#x27;),\n",
       "                                                  [&#x27;RecipeName&#x27;, &#x27;CommentID&#x27;,\n",
       "                                                   &#x27;UserID&#x27;, &#x27;UserName&#x27;]),\n",
       "                                                 (&#x27;standard-scaler&#x27;,\n",
       "                                                  StandardScaler(),\n",
       "                                                  [&#x27;ID&#x27;, &#x27;RecipeNumber&#x27;,\n",
       "                                                   &#x27;RecipeCode&#x27;,\n",
       "                                                   &#x27;UserReputation&#x27;,\n",
       "                                                   &#x27;CreationTimestamp&#x27;,\n",
       "                                                   &#x27;ReplyCount&#x27;,\n",
       "                                                   &#x27;ThumbsUpCount&#x27;,\n",
       "                                                   &#x27;ThumbsDownCount&#x27;,\n",
       "                                                   &#x27;BestScore&#x27;])])),\n",
       "                (&#x27;kneighborsclassifier&#x27;, KNeighborsClassifier(n_neighbors=20))])</pre><b>In a Jupyter environment, please rerun this cell to show the HTML representation or trust the notebook. <br />On GitHub, the HTML representation is unable to render, please try loading this page with nbviewer.org.</b></div><div class=\"sk-container\" hidden><div class=\"sk-item sk-dashed-wrapped\"><div class=\"sk-label-container\"><div class=\"sk-label sk-toggleable\"><input class=\"sk-toggleable__control sk-hidden--visually\" id=\"sk-estimator-id-10\" type=\"checkbox\" ><label for=\"sk-estimator-id-10\" class=\"sk-toggleable__label sk-toggleable__label-arrow\">Pipeline</label><div class=\"sk-toggleable__content\"><pre>Pipeline(steps=[(&#x27;columntransformer&#x27;,\n",
       "                 ColumnTransformer(transformers=[(&#x27;tfidvect&#x27;, TfidfVectorizer(),\n",
       "                                                  &#x27;Recipe_Review&#x27;),\n",
       "                                                 (&#x27;one-hot-encoder&#x27;,\n",
       "                                                  OneHotEncoder(handle_unknown=&#x27;ignore&#x27;),\n",
       "                                                  [&#x27;RecipeName&#x27;, &#x27;CommentID&#x27;,\n",
       "                                                   &#x27;UserID&#x27;, &#x27;UserName&#x27;]),\n",
       "                                                 (&#x27;standard-scaler&#x27;,\n",
       "                                                  StandardScaler(),\n",
       "                                                  [&#x27;ID&#x27;, &#x27;RecipeNumber&#x27;,\n",
       "                                                   &#x27;RecipeCode&#x27;,\n",
       "                                                   &#x27;UserReputation&#x27;,\n",
       "                                                   &#x27;CreationTimestamp&#x27;,\n",
       "                                                   &#x27;ReplyCount&#x27;,\n",
       "                                                   &#x27;ThumbsUpCount&#x27;,\n",
       "                                                   &#x27;ThumbsDownCount&#x27;,\n",
       "                                                   &#x27;BestScore&#x27;])])),\n",
       "                (&#x27;kneighborsclassifier&#x27;, KNeighborsClassifier(n_neighbors=20))])</pre></div></div></div><div class=\"sk-serial\"><div class=\"sk-item sk-dashed-wrapped\"><div class=\"sk-label-container\"><div class=\"sk-label sk-toggleable\"><input class=\"sk-toggleable__control sk-hidden--visually\" id=\"sk-estimator-id-11\" type=\"checkbox\" ><label for=\"sk-estimator-id-11\" class=\"sk-toggleable__label sk-toggleable__label-arrow\">columntransformer: ColumnTransformer</label><div class=\"sk-toggleable__content\"><pre>ColumnTransformer(transformers=[(&#x27;tfidvect&#x27;, TfidfVectorizer(),\n",
       "                                 &#x27;Recipe_Review&#x27;),\n",
       "                                (&#x27;one-hot-encoder&#x27;,\n",
       "                                 OneHotEncoder(handle_unknown=&#x27;ignore&#x27;),\n",
       "                                 [&#x27;RecipeName&#x27;, &#x27;CommentID&#x27;, &#x27;UserID&#x27;,\n",
       "                                  &#x27;UserName&#x27;]),\n",
       "                                (&#x27;standard-scaler&#x27;, StandardScaler(),\n",
       "                                 [&#x27;ID&#x27;, &#x27;RecipeNumber&#x27;, &#x27;RecipeCode&#x27;,\n",
       "                                  &#x27;UserReputation&#x27;, &#x27;CreationTimestamp&#x27;,\n",
       "                                  &#x27;ReplyCount&#x27;, &#x27;ThumbsUpCount&#x27;,\n",
       "                                  &#x27;ThumbsDownCount&#x27;, &#x27;BestScore&#x27;])])</pre></div></div></div><div class=\"sk-parallel\"><div class=\"sk-parallel-item\"><div class=\"sk-item\"><div class=\"sk-label-container\"><div class=\"sk-label sk-toggleable\"><input class=\"sk-toggleable__control sk-hidden--visually\" id=\"sk-estimator-id-12\" type=\"checkbox\" ><label for=\"sk-estimator-id-12\" class=\"sk-toggleable__label sk-toggleable__label-arrow\">tfidvect</label><div class=\"sk-toggleable__content\"><pre>Recipe_Review</pre></div></div></div><div class=\"sk-serial\"><div class=\"sk-item\"><div class=\"sk-estimator sk-toggleable\"><input class=\"sk-toggleable__control sk-hidden--visually\" id=\"sk-estimator-id-13\" type=\"checkbox\" ><label for=\"sk-estimator-id-13\" class=\"sk-toggleable__label sk-toggleable__label-arrow\">TfidfVectorizer</label><div class=\"sk-toggleable__content\"><pre>TfidfVectorizer()</pre></div></div></div></div></div></div><div class=\"sk-parallel-item\"><div class=\"sk-item\"><div class=\"sk-label-container\"><div class=\"sk-label sk-toggleable\"><input class=\"sk-toggleable__control sk-hidden--visually\" id=\"sk-estimator-id-14\" type=\"checkbox\" ><label for=\"sk-estimator-id-14\" class=\"sk-toggleable__label sk-toggleable__label-arrow\">one-hot-encoder</label><div class=\"sk-toggleable__content\"><pre>[&#x27;RecipeName&#x27;, &#x27;CommentID&#x27;, &#x27;UserID&#x27;, &#x27;UserName&#x27;]</pre></div></div></div><div class=\"sk-serial\"><div class=\"sk-item\"><div class=\"sk-estimator sk-toggleable\"><input class=\"sk-toggleable__control sk-hidden--visually\" id=\"sk-estimator-id-15\" type=\"checkbox\" ><label for=\"sk-estimator-id-15\" class=\"sk-toggleable__label sk-toggleable__label-arrow\">OneHotEncoder</label><div class=\"sk-toggleable__content\"><pre>OneHotEncoder(handle_unknown=&#x27;ignore&#x27;)</pre></div></div></div></div></div></div><div class=\"sk-parallel-item\"><div class=\"sk-item\"><div class=\"sk-label-container\"><div class=\"sk-label sk-toggleable\"><input class=\"sk-toggleable__control sk-hidden--visually\" id=\"sk-estimator-id-16\" type=\"checkbox\" ><label for=\"sk-estimator-id-16\" class=\"sk-toggleable__label sk-toggleable__label-arrow\">standard-scaler</label><div class=\"sk-toggleable__content\"><pre>[&#x27;ID&#x27;, &#x27;RecipeNumber&#x27;, &#x27;RecipeCode&#x27;, &#x27;UserReputation&#x27;, &#x27;CreationTimestamp&#x27;, &#x27;ReplyCount&#x27;, &#x27;ThumbsUpCount&#x27;, &#x27;ThumbsDownCount&#x27;, &#x27;BestScore&#x27;]</pre></div></div></div><div class=\"sk-serial\"><div class=\"sk-item\"><div class=\"sk-estimator sk-toggleable\"><input class=\"sk-toggleable__control sk-hidden--visually\" id=\"sk-estimator-id-17\" type=\"checkbox\" ><label for=\"sk-estimator-id-17\" class=\"sk-toggleable__label sk-toggleable__label-arrow\">StandardScaler</label><div class=\"sk-toggleable__content\"><pre>StandardScaler()</pre></div></div></div></div></div></div></div></div><div class=\"sk-item\"><div class=\"sk-estimator sk-toggleable\"><input class=\"sk-toggleable__control sk-hidden--visually\" id=\"sk-estimator-id-18\" type=\"checkbox\" ><label for=\"sk-estimator-id-18\" class=\"sk-toggleable__label sk-toggleable__label-arrow\">KNeighborsClassifier</label><div class=\"sk-toggleable__content\"><pre>KNeighborsClassifier(n_neighbors=20)</pre></div></div></div></div></div></div></div>"
      ],
      "text/plain": [
       "Pipeline(steps=[('columntransformer',\n",
       "                 ColumnTransformer(transformers=[('tfidvect', TfidfVectorizer(),\n",
       "                                                  'Recipe_Review'),\n",
       "                                                 ('one-hot-encoder',\n",
       "                                                  OneHotEncoder(handle_unknown='ignore'),\n",
       "                                                  ['RecipeName', 'CommentID',\n",
       "                                                   'UserID', 'UserName']),\n",
       "                                                 ('standard-scaler',\n",
       "                                                  StandardScaler(),\n",
       "                                                  ['ID', 'RecipeNumber',\n",
       "                                                   'RecipeCode',\n",
       "                                                   'UserReputation',\n",
       "                                                   'CreationTimestamp',\n",
       "                                                   'ReplyCount',\n",
       "                                                   'ThumbsUpCount',\n",
       "                                                   'ThumbsDownCount',\n",
       "                                                   'BestScore'])])),\n",
       "                ('kneighborsclassifier', KNeighborsClassifier(n_neighbors=20))])"
      ]
     },
     "execution_count": 40,
     "metadata": {},
     "output_type": "execute_result"
    }
   ],
   "source": [
    "knn_model_final = make_pipeline(preprocessor,KNeighborsClassifier(n_neighbors=20))\n",
    "knn_model_final.fit(x_train,y_train)"
   ]
  },
  {
   "cell_type": "markdown",
   "id": "ee41d127",
   "metadata": {
    "papermill": {
     "duration": 0.037839,
     "end_time": "2024-04-08T05:54:19.870021",
     "exception": false,
     "start_time": "2024-04-08T05:54:19.832182",
     "status": "completed"
    },
    "tags": []
   },
   "source": [
    "**Prediction of target data using KNN Model of test dataset**"
   ]
  },
  {
   "cell_type": "code",
   "execution_count": 41,
   "id": "e11a8506",
   "metadata": {
    "execution": {
     "iopub.execute_input": "2024-04-08T05:54:19.950125Z",
     "iopub.status.busy": "2024-04-08T05:54:19.949660Z",
     "iopub.status.idle": "2024-04-08T05:54:47.382701Z",
     "shell.execute_reply": "2024-04-08T05:54:47.381313Z"
    },
    "papermill": {
     "duration": 27.477485,
     "end_time": "2024-04-08T05:54:47.386156",
     "exception": false,
     "start_time": "2024-04-08T05:54:19.908671",
     "status": "completed"
    },
    "tags": []
   },
   "outputs": [],
   "source": [
    "knn_pred = knn_model_final.predict(x_test)"
   ]
  },
  {
   "cell_type": "markdown",
   "id": "0e650dab",
   "metadata": {
    "papermill": {
     "duration": 0.037184,
     "end_time": "2024-04-08T05:54:47.462403",
     "exception": false,
     "start_time": "2024-04-08T05:54:47.425219",
     "status": "completed"
    },
    "tags": []
   },
   "source": [
    "**Confusion matrix using KNN Model**"
   ]
  },
  {
   "cell_type": "code",
   "execution_count": 42,
   "id": "4aff454e",
   "metadata": {
    "execution": {
     "iopub.execute_input": "2024-04-08T05:54:47.539696Z",
     "iopub.status.busy": "2024-04-08T05:54:47.538930Z",
     "iopub.status.idle": "2024-04-08T05:54:47.548487Z",
     "shell.execute_reply": "2024-04-08T05:54:47.547339Z"
    },
    "papermill": {
     "duration": 0.050872,
     "end_time": "2024-04-08T05:54:47.550896",
     "exception": false,
     "start_time": "2024-04-08T05:54:47.500024",
     "status": "completed"
    },
    "tags": []
   },
   "outputs": [
    {
     "data": {
      "text/plain": [
       "array([[  42,    5,    0,    0,    0,  223],\n",
       "       [   2,    6,    0,    0,    0,   40],\n",
       "       [   3,    4,    0,    0,    0,   23],\n",
       "       [   1,    6,    0,    0,    0,   77],\n",
       "       [   0,    0,    0,    0,    0,  249],\n",
       "       [  21,    2,    0,    0,    0, 2023]])"
      ]
     },
     "execution_count": 42,
     "metadata": {},
     "output_type": "execute_result"
    }
   ],
   "source": [
    "knn_cm = confusion_matrix(y_test, knn_pred)\n",
    "knn_cm"
   ]
  },
  {
   "cell_type": "markdown",
   "id": "e3081805",
   "metadata": {
    "papermill": {
     "duration": 0.038898,
     "end_time": "2024-04-08T05:54:47.628111",
     "exception": false,
     "start_time": "2024-04-08T05:54:47.589213",
     "status": "completed"
    },
    "tags": []
   },
   "source": [
    "**Confusion Matrix graph using KNN Model**"
   ]
  },
  {
   "cell_type": "code",
   "execution_count": 43,
   "id": "d0db7ac5",
   "metadata": {
    "execution": {
     "iopub.execute_input": "2024-04-08T05:54:47.709269Z",
     "iopub.status.busy": "2024-04-08T05:54:47.708588Z",
     "iopub.status.idle": "2024-04-08T05:54:48.105927Z",
     "shell.execute_reply": "2024-04-08T05:54:48.104682Z"
    },
    "papermill": {
     "duration": 0.441384,
     "end_time": "2024-04-08T05:54:48.108882",
     "exception": false,
     "start_time": "2024-04-08T05:54:47.667498",
     "status": "completed"
    },
    "tags": []
   },
   "outputs": [
    {
     "data": {
      "image/png": "[encoded data removed]",
      "text/plain": [
       "<Figure size 640x480 with 2 Axes>"
      ]
     },
     "metadata": {},
     "output_type": "display_data"
    }
   ],
   "source": [
    "knn_disp = ConfusionMatrixDisplay(confusion_matrix=knn_cm)\n",
    "knn_disp.plot()\n",
    "plt.show()"
   ]
  },
  {
   "cell_type": "markdown",
   "id": "2d5e7e5c",
   "metadata": {
    "papermill": {
     "duration": 0.03791,
     "end_time": "2024-04-08T05:54:48.186238",
     "exception": false,
     "start_time": "2024-04-08T05:54:48.148328",
     "status": "completed"
    },
    "tags": []
   },
   "source": [
    "**Classification report using KNN Model**"
   ]
  },
  {
   "cell_type": "code",
   "execution_count": 44,
   "id": "8facd5eb",
   "metadata": {
    "execution": {
     "iopub.execute_input": "2024-04-08T05:54:48.264831Z",
     "iopub.status.busy": "2024-04-08T05:54:48.264166Z",
     "iopub.status.idle": "2024-04-08T05:54:48.281747Z",
     "shell.execute_reply": "2024-04-08T05:54:48.280578Z"
    },
    "papermill": {
     "duration": 0.060483,
     "end_time": "2024-04-08T05:54:48.284820",
     "exception": false,
     "start_time": "2024-04-08T05:54:48.224337",
     "status": "completed"
    },
    "tags": []
   },
   "outputs": [
    {
     "name": "stdout",
     "output_type": "stream",
     "text": [
      "              precision    recall  f1-score   support\n",
      "\n",
      "           0       0.61      0.16      0.25       270\n",
      "           1       0.26      0.12      0.17        48\n",
      "           2       0.00      0.00      0.00        30\n",
      "           3       0.00      0.00      0.00        84\n",
      "           4       0.00      0.00      0.00       249\n",
      "           5       0.77      0.99      0.86      2046\n",
      "\n",
      "    accuracy                           0.76      2727\n",
      "   macro avg       0.27      0.21      0.21      2727\n",
      "weighted avg       0.64      0.76      0.68      2727\n",
      "\n"
     ]
    }
   ],
   "source": [
    "print(classification_report(y_test, knn_pred,zero_division = 0.0)) "
   ]
  },
  {
   "cell_type": "markdown",
   "id": "d4bf4e5e",
   "metadata": {
    "papermill": {
     "duration": 0.038324,
     "end_time": "2024-04-08T05:54:48.362454",
     "exception": false,
     "start_time": "2024-04-08T05:54:48.324130",
     "status": "completed"
    },
    "tags": []
   },
   "source": [
    "**SVM Model**"
   ]
  },
  {
   "cell_type": "markdown",
   "id": "c634e3c0",
   "metadata": {
    "papermill": {
     "duration": 0.038692,
     "end_time": "2024-04-08T05:54:48.440873",
     "exception": false,
     "start_time": "2024-04-08T05:54:48.402181",
     "status": "completed"
    },
    "tags": []
   },
   "source": [
    "**As part of hyperparameter tuning GridSearchCV is used. Here 3 parameters have been choosen. C=0.1,1,100 and gamma=1,0.1,0.01 and kernel = rbf**"
   ]
  },
  {
   "cell_type": "code",
   "execution_count": 45,
   "id": "5c37e8d0",
   "metadata": {
    "execution": {
     "iopub.execute_input": "2024-04-08T05:54:48.520801Z",
     "iopub.status.busy": "2024-04-08T05:54:48.520417Z",
     "iopub.status.idle": "2024-04-08T05:54:48.525396Z",
     "shell.execute_reply": "2024-04-08T05:54:48.524303Z"
    },
    "papermill": {
     "duration": 0.047845,
     "end_time": "2024-04-08T05:54:48.527875",
     "exception": false,
     "start_time": "2024-04-08T05:54:48.480030",
     "status": "completed"
    },
    "tags": []
   },
   "outputs": [],
   "source": [
    "from sklearn.svm import SVC\n",
    "#svc_reg = SVC()\n",
    "#params = {'C': [0.1, 1, 100],  \n",
    "#             'gamma': [1, 0.1, 0.01], \n",
    "#            'kernel': ['rbf']}\n",
    "#svc_cv = GridSearchCV(svc_reg, params, refit = True, verbose = 3) \n",
    "#svc_model = make_pipeline(preprocessor,svc_cv)"
   ]
  },
  {
   "cell_type": "markdown",
   "id": "1a459e26",
   "metadata": {
    "papermill": {
     "duration": 0.039745,
     "end_time": "2024-04-08T05:54:48.606494",
     "exception": false,
     "start_time": "2024-04-08T05:54:48.566749",
     "status": "completed"
    },
    "tags": []
   },
   "source": [
    "**Fitting the training data with SVC model**"
   ]
  },
  {
   "cell_type": "code",
   "execution_count": 46,
   "id": "d8676c5a",
   "metadata": {
    "execution": {
     "iopub.execute_input": "2024-04-08T05:54:48.687195Z",
     "iopub.status.busy": "2024-04-08T05:54:48.686043Z",
     "iopub.status.idle": "2024-04-08T05:54:48.691325Z",
     "shell.execute_reply": "2024-04-08T05:54:48.690356Z"
    },
    "papermill": {
     "duration": 0.048339,
     "end_time": "2024-04-08T05:54:48.693804",
     "exception": false,
     "start_time": "2024-04-08T05:54:48.645465",
     "status": "completed"
    },
    "tags": []
   },
   "outputs": [],
   "source": [
    "#svc_model.fit(x_train,y_train)"
   ]
  },
  {
   "cell_type": "markdown",
   "id": "c2f471d3",
   "metadata": {
    "papermill": {
     "duration": 0.038499,
     "end_time": "2024-04-08T05:54:48.770662",
     "exception": false,
     "start_time": "2024-04-08T05:54:48.732163",
     "status": "completed"
    },
    "tags": []
   },
   "source": [
    "**Best Parameters of SVC Model**\n",
    "\n",
    "C=100, gamma=0.01, kernel = rbf"
   ]
  },
  {
   "cell_type": "code",
   "execution_count": 47,
   "id": "f6b4261a",
   "metadata": {
    "execution": {
     "iopub.execute_input": "2024-04-08T05:54:48.850961Z",
     "iopub.status.busy": "2024-04-08T05:54:48.850229Z",
     "iopub.status.idle": "2024-04-08T05:54:48.854212Z",
     "shell.execute_reply": "2024-04-08T05:54:48.853413Z"
    },
    "papermill": {
     "duration": 0.047633,
     "end_time": "2024-04-08T05:54:48.856573",
     "exception": false,
     "start_time": "2024-04-08T05:54:48.808940",
     "status": "completed"
    },
    "tags": []
   },
   "outputs": [],
   "source": [
    "#svc_cv.best_params_"
   ]
  },
  {
   "cell_type": "markdown",
   "id": "a5a95048",
   "metadata": {
    "papermill": {
     "duration": 0.041635,
     "end_time": "2024-04-08T05:54:48.937859",
     "exception": false,
     "start_time": "2024-04-08T05:54:48.896224",
     "status": "completed"
    },
    "tags": []
   },
   "source": [
    "**Best estimators of SVC Model**"
   ]
  },
  {
   "cell_type": "code",
   "execution_count": 48,
   "id": "90ff58d6",
   "metadata": {
    "execution": {
     "iopub.execute_input": "2024-04-08T05:54:49.018756Z",
     "iopub.status.busy": "2024-04-08T05:54:49.018013Z",
     "iopub.status.idle": "2024-04-08T05:54:49.022399Z",
     "shell.execute_reply": "2024-04-08T05:54:49.021360Z"
    },
    "papermill": {
     "duration": 0.047789,
     "end_time": "2024-04-08T05:54:49.025027",
     "exception": false,
     "start_time": "2024-04-08T05:54:48.977238",
     "status": "completed"
    },
    "tags": []
   },
   "outputs": [],
   "source": [
    "#svc_cv.best_estimator_"
   ]
  },
  {
   "cell_type": "markdown",
   "id": "8a634186",
   "metadata": {
    "papermill": {
     "duration": 0.048834,
     "end_time": "2024-04-08T05:54:49.124691",
     "exception": false,
     "start_time": "2024-04-08T05:54:49.075857",
     "status": "completed"
    },
    "tags": []
   },
   "source": [
    "**SVM using best parameters**"
   ]
  },
  {
   "cell_type": "code",
   "execution_count": 49,
   "id": "9d78afbf",
   "metadata": {
    "execution": {
     "iopub.execute_input": "2024-04-08T05:54:49.206175Z",
     "iopub.status.busy": "2024-04-08T05:54:49.205455Z",
     "iopub.status.idle": "2024-04-08T05:56:51.287080Z",
     "shell.execute_reply": "2024-04-08T05:56:51.286162Z"
    },
    "papermill": {
     "duration": 122.16626,
     "end_time": "2024-04-08T05:56:51.330595",
     "exception": false,
     "start_time": "2024-04-08T05:54:49.164335",
     "status": "completed"
    },
    "tags": []
   },
   "outputs": [
    {
     "data": {
      "text/html": [
       "<style>#sk-container-id-3 {color: black;background-color: white;}#sk-container-id-3 pre{padding: 0;}#sk-container-id-3 div.sk-toggleable {background-color: white;}#sk-container-id-3 label.sk-toggleable__label {cursor: pointer;display: block;width: 100%;margin-bottom: 0;padding: 0.3em;box-sizing: border-box;text-align: center;}#sk-container-id-3 label.sk-toggleable__label-arrow:before {content: \"▸\";float: left;margin-right: 0.25em;color: #696969;}#sk-container-id-3 label.sk-toggleable__label-arrow:hover:before {color: black;}#sk-container-id-3 div.sk-estimator:hover label.sk-toggleable__label-arrow:before {color: black;}#sk-container-id-3 div.sk-toggleable__content {max-height: 0;max-width: 0;overflow: hidden;text-align: left;background-color: #f0f8ff;}#sk-container-id-3 div.sk-toggleable__content pre {margin: 0.2em;color: black;border-radius: 0.25em;background-color: #f0f8ff;}#sk-container-id-3 input.sk-toggleable__control:checked~div.sk-toggleable__content {max-height: 200px;max-width: 100%;overflow: auto;}#sk-container-id-3 input.sk-toggleable__control:checked~label.sk-toggleable__label-arrow:before {content: \"▾\";}#sk-container-id-3 div.sk-estimator input.sk-toggleable__control:checked~label.sk-toggleable__label {background-color: #d4ebff;}#sk-container-id-3 div.sk-label input.sk-toggleable__control:checked~label.sk-toggleable__label {background-color: #d4ebff;}#sk-container-id-3 input.sk-hidden--visually {border: 0;clip: rect(1px 1px 1px 1px);clip: rect(1px, 1px, 1px, 1px);height: 1px;margin: -1px;overflow: hidden;padding: 0;position: absolute;width: 1px;}#sk-container-id-3 div.sk-estimator {font-family: monospace;background-color: #f0f8ff;border: 1px dotted black;border-radius: 0.25em;box-sizing: border-box;margin-bottom: 0.5em;}#sk-container-id-3 div.sk-estimator:hover {background-color: #d4ebff;}#sk-container-id-3 div.sk-parallel-item::after {content: \"\";width: 100%;border-bottom: 1px solid gray;flex-grow: 1;}#sk-container-id-3 div.sk-label:hover label.sk-toggleable__label {background-color: #d4ebff;}#sk-container-id-3 div.sk-serial::before {content: \"\";position: absolute;border-left: 1px solid gray;box-sizing: border-box;top: 0;bottom: 0;left: 50%;z-index: 0;}#sk-container-id-3 div.sk-serial {display: flex;flex-direction: column;align-items: center;background-color: white;padding-right: 0.2em;padding-left: 0.2em;position: relative;}#sk-container-id-3 div.sk-item {position: relative;z-index: 1;}#sk-container-id-3 div.sk-parallel {display: flex;align-items: stretch;justify-content: center;background-color: white;position: relative;}#sk-container-id-3 div.sk-item::before, #sk-container-id-3 div.sk-parallel-item::before {content: \"\";position: absolute;border-left: 1px solid gray;box-sizing: border-box;top: 0;bottom: 0;left: 50%;z-index: -1;}#sk-container-id-3 div.sk-parallel-item {display: flex;flex-direction: column;z-index: 1;position: relative;background-color: white;}#sk-container-id-3 div.sk-parallel-item:first-child::after {align-self: flex-end;width: 50%;}#sk-container-id-3 div.sk-parallel-item:last-child::after {align-self: flex-start;width: 50%;}#sk-container-id-3 div.sk-parallel-item:only-child::after {width: 0;}#sk-container-id-3 div.sk-dashed-wrapped {border: 1px dashed gray;margin: 0 0.4em 0.5em 0.4em;box-sizing: border-box;padding-bottom: 0.4em;background-color: white;}#sk-container-id-3 div.sk-label label {font-family: monospace;font-weight: bold;display: inline-block;line-height: 1.2em;}#sk-container-id-3 div.sk-label-container {text-align: center;}#sk-container-id-3 div.sk-container {/* jupyter's `normalize.less` sets `[hidden] { display: none; }` but bootstrap.min.css set `[hidden] { display: none !important; }` so we also need the `!important` here to be able to override the default hidden behavior on the sphinx rendered scikit-learn.org. See: https://github.com/scikit-learn/scikit-learn/issues/21755 */display: inline-block !important;position: relative;}#sk-container-id-3 div.sk-text-repr-fallback {display: none;}</style><div id=\"sk-container-id-3\" class=\"sk-top-container\"><div class=\"sk-text-repr-fallback\"><pre>Pipeline(steps=[(&#x27;columntransformer&#x27;,\n",
       "                 ColumnTransformer(transformers=[(&#x27;tfidvect&#x27;, TfidfVectorizer(),\n",
       "                                                  &#x27;Recipe_Review&#x27;),\n",
       "                                                 (&#x27;one-hot-encoder&#x27;,\n",
       "                                                  OneHotEncoder(handle_unknown=&#x27;ignore&#x27;),\n",
       "                                                  [&#x27;RecipeName&#x27;, &#x27;CommentID&#x27;,\n",
       "                                                   &#x27;UserID&#x27;, &#x27;UserName&#x27;]),\n",
       "                                                 (&#x27;standard-scaler&#x27;,\n",
       "                                                  StandardScaler(),\n",
       "                                                  [&#x27;ID&#x27;, &#x27;RecipeNumber&#x27;,\n",
       "                                                   &#x27;RecipeCode&#x27;,\n",
       "                                                   &#x27;UserReputation&#x27;,\n",
       "                                                   &#x27;CreationTimestamp&#x27;,\n",
       "                                                   &#x27;ReplyCount&#x27;,\n",
       "                                                   &#x27;ThumbsUpCount&#x27;,\n",
       "                                                   &#x27;ThumbsDownCount&#x27;,\n",
       "                                                   &#x27;BestScore&#x27;])])),\n",
       "                (&#x27;svc&#x27;, SVC(C=100, gamma=0.01))])</pre><b>In a Jupyter environment, please rerun this cell to show the HTML representation or trust the notebook. <br />On GitHub, the HTML representation is unable to render, please try loading this page with nbviewer.org.</b></div><div class=\"sk-container\" hidden><div class=\"sk-item sk-dashed-wrapped\"><div class=\"sk-label-container\"><div class=\"sk-label sk-toggleable\"><input class=\"sk-toggleable__control sk-hidden--visually\" id=\"sk-estimator-id-19\" type=\"checkbox\" ><label for=\"sk-estimator-id-19\" class=\"sk-toggleable__label sk-toggleable__label-arrow\">Pipeline</label><div class=\"sk-toggleable__content\"><pre>Pipeline(steps=[(&#x27;columntransformer&#x27;,\n",
       "                 ColumnTransformer(transformers=[(&#x27;tfidvect&#x27;, TfidfVectorizer(),\n",
       "                                                  &#x27;Recipe_Review&#x27;),\n",
       "                                                 (&#x27;one-hot-encoder&#x27;,\n",
       "                                                  OneHotEncoder(handle_unknown=&#x27;ignore&#x27;),\n",
       "                                                  [&#x27;RecipeName&#x27;, &#x27;CommentID&#x27;,\n",
       "                                                   &#x27;UserID&#x27;, &#x27;UserName&#x27;]),\n",
       "                                                 (&#x27;standard-scaler&#x27;,\n",
       "                                                  StandardScaler(),\n",
       "                                                  [&#x27;ID&#x27;, &#x27;RecipeNumber&#x27;,\n",
       "                                                   &#x27;RecipeCode&#x27;,\n",
       "                                                   &#x27;UserReputation&#x27;,\n",
       "                                                   &#x27;CreationTimestamp&#x27;,\n",
       "                                                   &#x27;ReplyCount&#x27;,\n",
       "                                                   &#x27;ThumbsUpCount&#x27;,\n",
       "                                                   &#x27;ThumbsDownCount&#x27;,\n",
       "                                                   &#x27;BestScore&#x27;])])),\n",
       "                (&#x27;svc&#x27;, SVC(C=100, gamma=0.01))])</pre></div></div></div><div class=\"sk-serial\"><div class=\"sk-item sk-dashed-wrapped\"><div class=\"sk-label-container\"><div class=\"sk-label sk-toggleable\"><input class=\"sk-toggleable__control sk-hidden--visually\" id=\"sk-estimator-id-20\" type=\"checkbox\" ><label for=\"sk-estimator-id-20\" class=\"sk-toggleable__label sk-toggleable__label-arrow\">columntransformer: ColumnTransformer</label><div class=\"sk-toggleable__content\"><pre>ColumnTransformer(transformers=[(&#x27;tfidvect&#x27;, TfidfVectorizer(),\n",
       "                                 &#x27;Recipe_Review&#x27;),\n",
       "                                (&#x27;one-hot-encoder&#x27;,\n",
       "                                 OneHotEncoder(handle_unknown=&#x27;ignore&#x27;),\n",
       "                                 [&#x27;RecipeName&#x27;, &#x27;CommentID&#x27;, &#x27;UserID&#x27;,\n",
       "                                  &#x27;UserName&#x27;]),\n",
       "                                (&#x27;standard-scaler&#x27;, StandardScaler(),\n",
       "                                 [&#x27;ID&#x27;, &#x27;RecipeNumber&#x27;, &#x27;RecipeCode&#x27;,\n",
       "                                  &#x27;UserReputation&#x27;, &#x27;CreationTimestamp&#x27;,\n",
       "                                  &#x27;ReplyCount&#x27;, &#x27;ThumbsUpCount&#x27;,\n",
       "                                  &#x27;ThumbsDownCount&#x27;, &#x27;BestScore&#x27;])])</pre></div></div></div><div class=\"sk-parallel\"><div class=\"sk-parallel-item\"><div class=\"sk-item\"><div class=\"sk-label-container\"><div class=\"sk-label sk-toggleable\"><input class=\"sk-toggleable__control sk-hidden--visually\" id=\"sk-estimator-id-21\" type=\"checkbox\" ><label for=\"sk-estimator-id-21\" class=\"sk-toggleable__label sk-toggleable__label-arrow\">tfidvect</label><div class=\"sk-toggleable__content\"><pre>Recipe_Review</pre></div></div></div><div class=\"sk-serial\"><div class=\"sk-item\"><div class=\"sk-estimator sk-toggleable\"><input class=\"sk-toggleable__control sk-hidden--visually\" id=\"sk-estimator-id-22\" type=\"checkbox\" ><label for=\"sk-estimator-id-22\" class=\"sk-toggleable__label sk-toggleable__label-arrow\">TfidfVectorizer</label><div class=\"sk-toggleable__content\"><pre>TfidfVectorizer()</pre></div></div></div></div></div></div><div class=\"sk-parallel-item\"><div class=\"sk-item\"><div class=\"sk-label-container\"><div class=\"sk-label sk-toggleable\"><input class=\"sk-toggleable__control sk-hidden--visually\" id=\"sk-estimator-id-23\" type=\"checkbox\" ><label for=\"sk-estimator-id-23\" class=\"sk-toggleable__label sk-toggleable__label-arrow\">one-hot-encoder</label><div class=\"sk-toggleable__content\"><pre>[&#x27;RecipeName&#x27;, &#x27;CommentID&#x27;, &#x27;UserID&#x27;, &#x27;UserName&#x27;]</pre></div></div></div><div class=\"sk-serial\"><div class=\"sk-item\"><div class=\"sk-estimator sk-toggleable\"><input class=\"sk-toggleable__control sk-hidden--visually\" id=\"sk-estimator-id-24\" type=\"checkbox\" ><label for=\"sk-estimator-id-24\" class=\"sk-toggleable__label sk-toggleable__label-arrow\">OneHotEncoder</label><div class=\"sk-toggleable__content\"><pre>OneHotEncoder(handle_unknown=&#x27;ignore&#x27;)</pre></div></div></div></div></div></div><div class=\"sk-parallel-item\"><div class=\"sk-item\"><div class=\"sk-label-container\"><div class=\"sk-label sk-toggleable\"><input class=\"sk-toggleable__control sk-hidden--visually\" id=\"sk-estimator-id-25\" type=\"checkbox\" ><label for=\"sk-estimator-id-25\" class=\"sk-toggleable__label sk-toggleable__label-arrow\">standard-scaler</label><div class=\"sk-toggleable__content\"><pre>[&#x27;ID&#x27;, &#x27;RecipeNumber&#x27;, &#x27;RecipeCode&#x27;, &#x27;UserReputation&#x27;, &#x27;CreationTimestamp&#x27;, &#x27;ReplyCount&#x27;, &#x27;ThumbsUpCount&#x27;, &#x27;ThumbsDownCount&#x27;, &#x27;BestScore&#x27;]</pre></div></div></div><div class=\"sk-serial\"><div class=\"sk-item\"><div class=\"sk-estimator sk-toggleable\"><input class=\"sk-toggleable__control sk-hidden--visually\" id=\"sk-estimator-id-26\" type=\"checkbox\" ><label for=\"sk-estimator-id-26\" class=\"sk-toggleable__label sk-toggleable__label-arrow\">StandardScaler</label><div class=\"sk-toggleable__content\"><pre>StandardScaler()</pre></div></div></div></div></div></div></div></div><div class=\"sk-item\"><div class=\"sk-estimator sk-toggleable\"><input class=\"sk-toggleable__control sk-hidden--visually\" id=\"sk-estimator-id-27\" type=\"checkbox\" ><label for=\"sk-estimator-id-27\" class=\"sk-toggleable__label sk-toggleable__label-arrow\">SVC</label><div class=\"sk-toggleable__content\"><pre>SVC(C=100, gamma=0.01)</pre></div></div></div></div></div></div></div>"
      ],
      "text/plain": [
       "Pipeline(steps=[('columntransformer',\n",
       "                 ColumnTransformer(transformers=[('tfidvect', TfidfVectorizer(),\n",
       "                                                  'Recipe_Review'),\n",
       "                                                 ('one-hot-encoder',\n",
       "                                                  OneHotEncoder(handle_unknown='ignore'),\n",
       "                                                  ['RecipeName', 'CommentID',\n",
       "                                                   'UserID', 'UserName']),\n",
       "                                                 ('standard-scaler',\n",
       "                                                  StandardScaler(),\n",
       "                                                  ['ID', 'RecipeNumber',\n",
       "                                                   'RecipeCode',\n",
       "                                                   'UserReputation',\n",
       "                                                   'CreationTimestamp',\n",
       "                                                   'ReplyCount',\n",
       "                                                   'ThumbsUpCount',\n",
       "                                                   'ThumbsDownCount',\n",
       "                                                   'BestScore'])])),\n",
       "                ('svc', SVC(C=100, gamma=0.01))])"
      ]
     },
     "execution_count": 49,
     "metadata": {},
     "output_type": "execute_result"
    }
   ],
   "source": [
    "svc_model_final = make_pipeline(preprocessor,SVC(C=100,gamma=0.01,kernel='rbf'))\n",
    "svc_model_final.fit(x_train,y_train)"
   ]
  },
  {
   "cell_type": "markdown",
   "id": "b4eea5eb",
   "metadata": {
    "papermill": {
     "duration": 0.039051,
     "end_time": "2024-04-08T05:56:51.409847",
     "exception": false,
     "start_time": "2024-04-08T05:56:51.370796",
     "status": "completed"
    },
    "tags": []
   },
   "source": [
    "**Predict ratings of test dataset**"
   ]
  },
  {
   "cell_type": "code",
   "execution_count": 50,
   "id": "3a0d3c45",
   "metadata": {
    "execution": {
     "iopub.execute_input": "2024-04-08T05:56:51.492891Z",
     "iopub.status.busy": "2024-04-08T05:56:51.491775Z",
     "iopub.status.idle": "2024-04-08T05:57:02.234901Z",
     "shell.execute_reply": "2024-04-08T05:57:02.233503Z"
    },
    "papermill": {
     "duration": 10.788886,
     "end_time": "2024-04-08T05:57:02.237890",
     "exception": false,
     "start_time": "2024-04-08T05:56:51.449004",
     "status": "completed"
    },
    "tags": []
   },
   "outputs": [],
   "source": [
    "svc_pred = svc_model_final.predict(x_test)"
   ]
  },
  {
   "cell_type": "markdown",
   "id": "e7ce2e7e",
   "metadata": {
    "papermill": {
     "duration": 0.041604,
     "end_time": "2024-04-08T05:57:02.319382",
     "exception": false,
     "start_time": "2024-04-08T05:57:02.277778",
     "status": "completed"
    },
    "tags": []
   },
   "source": [
    "**Confusion matrix of SVC Model**"
   ]
  },
  {
   "cell_type": "code",
   "execution_count": 51,
   "id": "49c0210e",
   "metadata": {
    "execution": {
     "iopub.execute_input": "2024-04-08T05:57:02.402307Z",
     "iopub.status.busy": "2024-04-08T05:57:02.401843Z",
     "iopub.status.idle": "2024-04-08T05:57:02.412808Z",
     "shell.execute_reply": "2024-04-08T05:57:02.411496Z"
    },
    "papermill": {
     "duration": 0.055005,
     "end_time": "2024-04-08T05:57:02.415415",
     "exception": false,
     "start_time": "2024-04-08T05:57:02.360410",
     "status": "completed"
    },
    "tags": []
   },
   "outputs": [
    {
     "data": {
      "text/plain": [
       "array([[  52,    5,    2,    2,    5,  204],\n",
       "       [   4,   10,    1,    2,    1,   30],\n",
       "       [   1,    5,    2,    3,    4,   15],\n",
       "       [   7,    4,    1,   12,    9,   51],\n",
       "       [   3,    0,    0,    6,   32,  208],\n",
       "       [  26,    2,    0,    2,   21, 1995]])"
      ]
     },
     "execution_count": 51,
     "metadata": {},
     "output_type": "execute_result"
    }
   ],
   "source": [
    "svc_cm = confusion_matrix(y_test, svc_pred)\n",
    "svc_cm"
   ]
  },
  {
   "cell_type": "markdown",
   "id": "9d89f627",
   "metadata": {
    "papermill": {
     "duration": 0.039841,
     "end_time": "2024-04-08T05:57:02.494291",
     "exception": false,
     "start_time": "2024-04-08T05:57:02.454450",
     "status": "completed"
    },
    "tags": []
   },
   "source": [
    "**Confusion matrix graph using SVC Model**"
   ]
  },
  {
   "cell_type": "code",
   "execution_count": 52,
   "id": "eb467023",
   "metadata": {
    "execution": {
     "iopub.execute_input": "2024-04-08T05:57:02.575807Z",
     "iopub.status.busy": "2024-04-08T05:57:02.575408Z",
     "iopub.status.idle": "2024-04-08T05:57:02.973915Z",
     "shell.execute_reply": "2024-04-08T05:57:02.972637Z"
    },
    "papermill": {
     "duration": 0.442488,
     "end_time": "2024-04-08T05:57:02.976857",
     "exception": false,
     "start_time": "2024-04-08T05:57:02.534369",
     "status": "completed"
    },
    "tags": []
   },
   "outputs": [
    {
     "data": {
      "image/png": "[encoded data removed]",
      "text/plain": [
       "<Figure size 640x480 with 2 Axes>"
      ]
     },
     "metadata": {},
     "output_type": "display_data"
    }
   ],
   "source": [
    "svc_disp = ConfusionMatrixDisplay(confusion_matrix=svc_cm)\n",
    "svc_disp.plot()\n",
    "plt.show()"
   ]
  },
  {
   "cell_type": "markdown",
   "id": "e086a902",
   "metadata": {
    "papermill": {
     "duration": 0.041076,
     "end_time": "2024-04-08T05:57:03.058701",
     "exception": false,
     "start_time": "2024-04-08T05:57:03.017625",
     "status": "completed"
    },
    "tags": []
   },
   "source": [
    "**Classification report of SVC Model**"
   ]
  },
  {
   "cell_type": "code",
   "execution_count": 53,
   "id": "9728c3e3",
   "metadata": {
    "execution": {
     "iopub.execute_input": "2024-04-08T05:57:03.144457Z",
     "iopub.status.busy": "2024-04-08T05:57:03.143862Z",
     "iopub.status.idle": "2024-04-08T05:57:03.161763Z",
     "shell.execute_reply": "2024-04-08T05:57:03.160576Z"
    },
    "papermill": {
     "duration": 0.06421,
     "end_time": "2024-04-08T05:57:03.164409",
     "exception": false,
     "start_time": "2024-04-08T05:57:03.100199",
     "status": "completed"
    },
    "tags": []
   },
   "outputs": [
    {
     "name": "stdout",
     "output_type": "stream",
     "text": [
      "              precision    recall  f1-score   support\n",
      "\n",
      "           0       0.56      0.19      0.29       270\n",
      "           1       0.38      0.21      0.27        48\n",
      "           2       0.33      0.07      0.11        30\n",
      "           3       0.44      0.14      0.22        84\n",
      "           4       0.44      0.13      0.20       249\n",
      "           5       0.80      0.98      0.88      2046\n",
      "\n",
      "    accuracy                           0.77      2727\n",
      "   macro avg       0.49      0.29      0.33      2727\n",
      "weighted avg       0.72      0.77      0.72      2727\n",
      "\n"
     ]
    }
   ],
   "source": [
    "print(classification_report(y_test, svc_pred))"
   ]
  },
  {
   "cell_type": "markdown",
   "id": "58744339",
   "metadata": {
    "papermill": {
     "duration": 0.039846,
     "end_time": "2024-04-08T05:57:03.245211",
     "exception": false,
     "start_time": "2024-04-08T05:57:03.205365",
     "status": "completed"
    },
    "tags": []
   },
   "source": [
    "**Logistic Regression score**"
   ]
  },
  {
   "cell_type": "code",
   "execution_count": 54,
   "id": "d7eadd6e",
   "metadata": {
    "execution": {
     "iopub.execute_input": "2024-04-08T05:57:03.328946Z",
     "iopub.status.busy": "2024-04-08T05:57:03.328521Z",
     "iopub.status.idle": "2024-04-08T05:57:03.569513Z",
     "shell.execute_reply": "2024-04-08T05:57:03.568329Z"
    },
    "papermill": {
     "duration": 0.286894,
     "end_time": "2024-04-08T05:57:03.572204",
     "exception": false,
     "start_time": "2024-04-08T05:57:03.285310",
     "status": "completed"
    },
    "tags": []
   },
   "outputs": [
    {
     "data": {
      "text/plain": [
       "0.7737440410707738"
      ]
     },
     "execution_count": 54,
     "metadata": {},
     "output_type": "execute_result"
    }
   ],
   "source": [
    "le_model_final.score(x_test,y_test)"
   ]
  },
  {
   "cell_type": "markdown",
   "id": "aba88bcc",
   "metadata": {
    "papermill": {
     "duration": 0.0405,
     "end_time": "2024-04-08T05:57:03.653630",
     "exception": false,
     "start_time": "2024-04-08T05:57:03.613130",
     "status": "completed"
    },
    "tags": []
   },
   "source": [
    "**KNN Classifier Score**"
   ]
  },
  {
   "cell_type": "code",
   "execution_count": 55,
   "id": "78b6a947",
   "metadata": {
    "execution": {
     "iopub.execute_input": "2024-04-08T05:57:03.744155Z",
     "iopub.status.busy": "2024-04-08T05:57:03.743773Z",
     "iopub.status.idle": "2024-04-08T05:57:30.995599Z",
     "shell.execute_reply": "2024-04-08T05:57:30.994286Z"
    },
    "papermill": {
     "duration": 27.30541,
     "end_time": "2024-04-08T05:57:30.998978",
     "exception": false,
     "start_time": "2024-04-08T05:57:03.693568",
     "status": "completed"
    },
    "tags": []
   },
   "outputs": [
    {
     "data": {
      "text/plain": [
       "0.7594426109277594"
      ]
     },
     "execution_count": 55,
     "metadata": {},
     "output_type": "execute_result"
    }
   ],
   "source": [
    "knn_model_final.score(x_test,y_test)"
   ]
  },
  {
   "cell_type": "markdown",
   "id": "ba7ba22c",
   "metadata": {
    "papermill": {
     "duration": 0.040463,
     "end_time": "2024-04-08T05:57:31.080899",
     "exception": false,
     "start_time": "2024-04-08T05:57:31.040436",
     "status": "completed"
    },
    "tags": []
   },
   "source": [
    "**SVC Classifier Score**"
   ]
  },
  {
   "cell_type": "code",
   "execution_count": 56,
   "id": "0466cec7",
   "metadata": {
    "execution": {
     "iopub.execute_input": "2024-04-08T05:57:31.164363Z",
     "iopub.status.busy": "2024-04-08T05:57:31.163904Z",
     "iopub.status.idle": "2024-04-08T05:57:41.923653Z",
     "shell.execute_reply": "2024-04-08T05:57:41.922334Z"
    },
    "papermill": {
     "duration": 10.80506,
     "end_time": "2024-04-08T05:57:41.926349",
     "exception": false,
     "start_time": "2024-04-08T05:57:31.121289",
     "status": "completed"
    },
    "tags": []
   },
   "outputs": [
    {
     "data": {
      "text/plain": [
       "0.7711771177117712"
      ]
     },
     "execution_count": 56,
     "metadata": {},
     "output_type": "execute_result"
    }
   ],
   "source": [
    "svc_model_final.score(x_test,y_test)"
   ]
  },
  {
   "cell_type": "markdown",
   "id": "1a3b804e",
   "metadata": {
    "papermill": {
     "duration": 0.043935,
     "end_time": "2024-04-08T05:57:42.013709",
     "exception": false,
     "start_time": "2024-04-08T05:57:41.969774",
     "status": "completed"
    },
    "tags": []
   },
   "source": [
    "**Submission**"
   ]
  },
  {
   "cell_type": "markdown",
   "id": "e56535c0",
   "metadata": {
    "papermill": {
     "duration": 0.043323,
     "end_time": "2024-04-08T05:57:42.099078",
     "exception": false,
     "start_time": "2024-04-08T05:57:42.055755",
     "status": "completed"
    },
    "tags": []
   },
   "source": [
    "**SVC model is giving best score on test data. So using SVC model for final submission**"
   ]
  },
  {
   "cell_type": "code",
   "execution_count": 57,
   "id": "2ec47881",
   "metadata": {
    "execution": {
     "iopub.execute_input": "2024-04-08T05:57:42.188141Z",
     "iopub.status.busy": "2024-04-08T05:57:42.187722Z",
     "iopub.status.idle": "2024-04-08T05:57:59.868838Z",
     "shell.execute_reply": "2024-04-08T05:57:59.867760Z"
    },
    "papermill": {
     "duration": 17.729021,
     "end_time": "2024-04-08T05:57:59.871454",
     "exception": false,
     "start_time": "2024-04-08T05:57:42.142433",
     "status": "completed"
    },
    "tags": []
   },
   "outputs": [],
   "source": [
    "prediction = svc_model_final.predict(test)"
   ]
  },
  {
   "cell_type": "code",
   "execution_count": 58,
   "id": "8e063b18",
   "metadata": {
    "execution": {
     "iopub.execute_input": "2024-04-08T05:57:59.955857Z",
     "iopub.status.busy": "2024-04-08T05:57:59.954879Z",
     "iopub.status.idle": "2024-04-08T05:57:59.961653Z",
     "shell.execute_reply": "2024-04-08T05:57:59.960355Z"
    },
    "papermill": {
     "duration": 0.052108,
     "end_time": "2024-04-08T05:57:59.964523",
     "exception": false,
     "start_time": "2024-04-08T05:57:59.912415",
     "status": "completed"
    },
    "tags": []
   },
   "outputs": [],
   "source": [
    "submission = pd.DataFrame(columns = ['ID','Rating'])"
   ]
  },
  {
   "cell_type": "code",
   "execution_count": 59,
   "id": "27f219f6",
   "metadata": {
    "execution": {
     "iopub.execute_input": "2024-04-08T05:58:00.051171Z",
     "iopub.status.busy": "2024-04-08T05:58:00.050707Z",
     "iopub.status.idle": "2024-04-08T05:58:00.073415Z",
     "shell.execute_reply": "2024-04-08T05:58:00.072416Z"
    },
    "papermill": {
     "duration": 0.068386,
     "end_time": "2024-04-08T05:58:00.075988",
     "exception": false,
     "start_time": "2024-04-08T05:58:00.007602",
     "status": "completed"
    },
    "tags": []
   },
   "outputs": [],
   "source": [
    "submission['ID'] = [i+1 for i in range(len(prediction))]\n",
    "submission['Rating'] = prediction\n",
    "submission.to_csv('submission.csv',index = False)"
   ]
  },
  {
   "cell_type": "code",
   "execution_count": 60,
   "id": "6d8920eb",
   "metadata": {
    "execution": {
     "iopub.execute_input": "2024-04-08T05:58:00.167216Z",
     "iopub.status.busy": "2024-04-08T05:58:00.166555Z",
     "iopub.status.idle": "2024-04-08T05:58:00.178438Z",
     "shell.execute_reply": "2024-04-08T05:58:00.176824Z"
    },
    "papermill": {
     "duration": 0.060847,
     "end_time": "2024-04-08T05:58:00.181070",
     "exception": false,
     "start_time": "2024-04-08T05:58:00.120223",
     "status": "completed"
    },
    "tags": []
   },
   "outputs": [
    {
     "data": {
      "text/html": [
       "<div>\n",
       "<style scoped>\n",
       "    .dataframe tbody tr th:only-of-type {\n",
       "        vertical-align: middle;\n",
       "    }\n",
       "\n",
       "    .dataframe tbody tr th {\n",
       "        vertical-align: top;\n",
       "    }\n",
       "\n",
       "    .dataframe thead th {\n",
       "        text-align: right;\n",
       "    }\n",
       "</style>\n",
       "<table border=\"1\" class=\"dataframe\">\n",
       "  <thead>\n",
       "    <tr style=\"text-align: right;\">\n",
       "      <th></th>\n",
       "      <th>ID</th>\n",
       "      <th>Rating</th>\n",
       "    </tr>\n",
       "  </thead>\n",
       "  <tbody>\n",
       "    <tr>\n",
       "      <th>0</th>\n",
       "      <td>1</td>\n",
       "      <td>5</td>\n",
       "    </tr>\n",
       "    <tr>\n",
       "      <th>1</th>\n",
       "      <td>2</td>\n",
       "      <td>5</td>\n",
       "    </tr>\n",
       "    <tr>\n",
       "      <th>2</th>\n",
       "      <td>3</td>\n",
       "      <td>5</td>\n",
       "    </tr>\n",
       "    <tr>\n",
       "      <th>3</th>\n",
       "      <td>4</td>\n",
       "      <td>4</td>\n",
       "    </tr>\n",
       "    <tr>\n",
       "      <th>4</th>\n",
       "      <td>5</td>\n",
       "      <td>5</td>\n",
       "    </tr>\n",
       "    <tr>\n",
       "      <th>...</th>\n",
       "      <td>...</td>\n",
       "      <td>...</td>\n",
       "    </tr>\n",
       "    <tr>\n",
       "      <th>4541</th>\n",
       "      <td>4542</td>\n",
       "      <td>5</td>\n",
       "    </tr>\n",
       "    <tr>\n",
       "      <th>4542</th>\n",
       "      <td>4543</td>\n",
       "      <td>5</td>\n",
       "    </tr>\n",
       "    <tr>\n",
       "      <th>4543</th>\n",
       "      <td>4544</td>\n",
       "      <td>5</td>\n",
       "    </tr>\n",
       "    <tr>\n",
       "      <th>4544</th>\n",
       "      <td>4545</td>\n",
       "      <td>2</td>\n",
       "    </tr>\n",
       "    <tr>\n",
       "      <th>4545</th>\n",
       "      <td>4546</td>\n",
       "      <td>5</td>\n",
       "    </tr>\n",
       "  </tbody>\n",
       "</table>\n",
       "<p>4546 rows × 2 columns</p>\n",
       "</div>"
      ],
      "text/plain": [
       "        ID  Rating\n",
       "0        1       5\n",
       "1        2       5\n",
       "2        3       5\n",
       "3        4       4\n",
       "4        5       5\n",
       "...    ...     ...\n",
       "4541  4542       5\n",
       "4542  4543       5\n",
       "4543  4544       5\n",
       "4544  4545       2\n",
       "4545  4546       5\n",
       "\n",
       "[4546 rows x 2 columns]"
      ]
     },
     "execution_count": 60,
     "metadata": {},
     "output_type": "execute_result"
    }
   ],
   "source": [
    "submission"
   ]
  }
 ],
 "metadata": {
  "kaggle": {
   "accelerator": "none",
   "dataSources": [
    {
     "databundleVersionId": 7452256,
     "sourceId": 67079,
     "sourceType": "competition"
    }
   ],
   "dockerImageVersionId": 30646,
   "isGpuEnabled": false,
   "isInternetEnabled": true,
   "language": "python",
   "sourceType": "notebook"
  },
  "kernelspec": {
   "display_name": "Python 3",
   "language": "python",
   "name": "python3"
  },
  "language_info": {
   "codemirror_mode": {
    "name": "ipython",
    "version": 3
   },
   "file_extension": ".py",
   "mimetype": "text/x-python",
   "name": "python",
   "nbconvert_exporter": "python",
   "pygments_lexer": "ipython3",
   "version": "3.10.13"
  },
  "papermill": {
   "default_parameters": {},
   "duration": 269.548084,
   "end_time": "2024-04-08T05:58:00.947815",
   "environment_variables": {},
   "exception": null,
   "input_path": "__notebook__.ipynb",
   "output_path": "__notebook__.ipynb",
   "parameters": {},
   "start_time": "2024-04-08T05:53:31.399731",
   "version": "2.5.0"
  }
 },
 "nbformat": 4,
 "nbformat_minor": 5
}
